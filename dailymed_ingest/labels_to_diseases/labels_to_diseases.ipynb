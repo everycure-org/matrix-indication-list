{
 "cells": [
  {
   "cell_type": "code",
   "execution_count": 21,
   "id": "44e39729-9571-4f85-97e5-92eddd22d94e",
   "metadata": {},
   "outputs": [
    {
     "name": "stdout",
     "output_type": "stream",
     "text": [
      "50378  indications sections found\n"
     ]
    }
   ],
   "source": [
    "import pandas as pd \n",
    "import base64\n",
    "import vertexai\n",
    "from vertexai.generative_models import GenerativeModel, Part, SafetySetting, FinishReason\n",
    "import vertexai.preview.generative_models as generative_models\n",
    "\n",
    "def generate(input_text, safety_settings, generation_config):\n",
    "    vertexai.init(project=\"mtrx-wg2-modeling-dev-9yj\", location=\"us-east1\")\n",
    "    model = GenerativeModel(\n",
    "        \"gemini-1.5-flash-001\",\n",
    "    )\n",
    "    responses = model.generate_content(\n",
    "      [input_text],\n",
    "      generation_config=generation_config,\n",
    "      safety_settings=safety_settings,\n",
    "      stream=True,\n",
    "    )\n",
    "    \n",
    "    resText = \"\"\n",
    "    for response in responses:\n",
    "        resText+=response.text\n",
    "        \n",
    "    return resText\n",
    "\n",
    "\n",
    "#############################################\n",
    "## GEMINI STUFF #############################\n",
    "#############################################\n",
    "generation_config = {\n",
    "    \"max_output_tokens\": 8192,\n",
    "    \"temperature\": 1,\n",
    "    \"top_p\": 0.95,\n",
    "}\n",
    "\n",
    "safety_settings = [\n",
    "    SafetySetting(\n",
    "        category=SafetySetting.HarmCategory.HARM_CATEGORY_HATE_SPEECH,\n",
    "        threshold=SafetySetting.HarmBlockThreshold.BLOCK_NONE\n",
    "    ),\n",
    "    SafetySetting(\n",
    "        category=SafetySetting.HarmCategory.HARM_CATEGORY_DANGEROUS_CONTENT,\n",
    "        threshold=SafetySetting.HarmBlockThreshold.BLOCK_NONE\n",
    "    ),\n",
    "    SafetySetting(\n",
    "        category=SafetySetting.HarmCategory.HARM_CATEGORY_SEXUALLY_EXPLICIT,\n",
    "        threshold=SafetySetting.HarmBlockThreshold.BLOCK_NONE\n",
    "    ),\n",
    "    SafetySetting(\n",
    "        category=SafetySetting.HarmCategory.HARM_CATEGORY_HARASSMENT,\n",
    "        threshold=SafetySetting.HarmBlockThreshold.BLOCK_NONE\n",
    "    ),\n",
    "]\n",
    "\n",
    "drugs_to_indications = pd.read_excel(\"../indicationList.xlsx\")\n",
    "\n",
    "indicationsData = list(drugs_to_indications['indications'])\n",
    "activeIngredientsData = list(drugs_to_indications['active ingredient'])\n",
    "print(len(indicationsData), ' indications sections found')\n",
    "\n",
    "\n"
   ]
  },
  {
   "cell_type": "code",
   "execution_count": 24,
   "id": "452f258a-0791-4ec4-86db-9c2497f73f67",
   "metadata": {},
   "outputs": [
    {
     "name": "stderr",
     "output_type": "stream",
     "text": [
      "I0000 00:00:1724693019.048265  947423 check_gcp_environment_no_op.cc:29] ALTS: Platforms other than Linux and Windows are not supported\n",
      "I0000 00:00:1724693020.161277  947423 check_gcp_environment_no_op.cc:29] ALTS: Platforms other than Linux and Windows are not supported\n",
      "I0000 00:00:1724693020.845617  947423 check_gcp_environment_no_op.cc:29] ALTS: Platforms other than Linux and Windows are not supported\n",
      "I0000 00:00:1724693021.581760  947423 check_gcp_environment_no_op.cc:29] ALTS: Platforms other than Linux and Windows are not supported\n",
      "I0000 00:00:1724693022.279684  947423 check_gcp_environment_no_op.cc:29] ALTS: Platforms other than Linux and Windows are not supported\n",
      "I0000 00:00:1724693022.893350  947423 check_gcp_environment_no_op.cc:29] ALTS: Platforms other than Linux and Windows are not supported\n",
      "I0000 00:00:1724693023.955242  947423 check_gcp_environment_no_op.cc:29] ALTS: Platforms other than Linux and Windows are not supported\n",
      "I0000 00:00:1724693024.744078  947423 check_gcp_environment_no_op.cc:29] ALTS: Platforms other than Linux and Windows are not supported\n",
      "I0000 00:00:1724693025.393376  947423 check_gcp_environment_no_op.cc:29] ALTS: Platforms other than Linux and Windows are not supported\n",
      "I0000 00:00:1724693025.968785  947423 check_gcp_environment_no_op.cc:29] ALTS: Platforms other than Linux and Windows are not supported\n",
      "I0000 00:00:1724693026.462376  947423 check_gcp_environment_no_op.cc:29] ALTS: Platforms other than Linux and Windows are not supported\n",
      "I0000 00:00:1724693027.188236  947423 check_gcp_environment_no_op.cc:29] ALTS: Platforms other than Linux and Windows are not supported\n",
      "I0000 00:00:1724693027.877582  947423 check_gcp_environment_no_op.cc:29] ALTS: Platforms other than Linux and Windows are not supported\n",
      "I0000 00:00:1724693028.425597  947423 check_gcp_environment_no_op.cc:29] ALTS: Platforms other than Linux and Windows are not supported\n",
      "I0000 00:00:1724693029.141678  947423 check_gcp_environment_no_op.cc:29] ALTS: Platforms other than Linux and Windows are not supported\n",
      "I0000 00:00:1724693029.838512  947423 check_gcp_environment_no_op.cc:29] ALTS: Platforms other than Linux and Windows are not supported\n",
      "I0000 00:00:1724693031.759904  947423 check_gcp_environment_no_op.cc:29] ALTS: Platforms other than Linux and Windows are not supported\n",
      "I0000 00:00:1724693032.419959  947423 check_gcp_environment_no_op.cc:29] ALTS: Platforms other than Linux and Windows are not supported\n",
      "I0000 00:00:1724693033.035226  947423 check_gcp_environment_no_op.cc:29] ALTS: Platforms other than Linux and Windows are not supported\n",
      "I0000 00:00:1724693034.068696  947423 check_gcp_environment_no_op.cc:29] ALTS: Platforms other than Linux and Windows are not supported\n",
      "I0000 00:00:1724693034.669810  947423 check_gcp_environment_no_op.cc:29] ALTS: Platforms other than Linux and Windows are not supported\n",
      "I0000 00:00:1724693035.286466  947423 check_gcp_environment_no_op.cc:29] ALTS: Platforms other than Linux and Windows are not supported\n",
      "I0000 00:00:1724693036.092682  947423 check_gcp_environment_no_op.cc:29] ALTS: Platforms other than Linux and Windows are not supported\n",
      "I0000 00:00:1724693036.913735  947423 check_gcp_environment_no_op.cc:29] ALTS: Platforms other than Linux and Windows are not supported\n",
      "I0000 00:00:1724693037.411123  947423 check_gcp_environment_no_op.cc:29] ALTS: Platforms other than Linux and Windows are not supported\n",
      "I0000 00:00:1724693038.620377  947423 check_gcp_environment_no_op.cc:29] ALTS: Platforms other than Linux and Windows are not supported\n",
      "I0000 00:00:1724693039.467404  947423 check_gcp_environment_no_op.cc:29] ALTS: Platforms other than Linux and Windows are not supported\n",
      "I0000 00:00:1724693040.097676  947423 check_gcp_environment_no_op.cc:29] ALTS: Platforms other than Linux and Windows are not supported\n",
      "I0000 00:00:1724693040.711148  947423 check_gcp_environment_no_op.cc:29] ALTS: Platforms other than Linux and Windows are not supported\n",
      "I0000 00:00:1724693041.328542  947423 check_gcp_environment_no_op.cc:29] ALTS: Platforms other than Linux and Windows are not supported\n",
      "I0000 00:00:1724693042.130506  947423 check_gcp_environment_no_op.cc:29] ALTS: Platforms other than Linux and Windows are not supported\n",
      "I0000 00:00:1724693042.760296  947423 check_gcp_environment_no_op.cc:29] ALTS: Platforms other than Linux and Windows are not supported\n",
      "I0000 00:00:1724693043.461819  947423 check_gcp_environment_no_op.cc:29] ALTS: Platforms other than Linux and Windows are not supported\n",
      "I0000 00:00:1724693044.362489  947423 check_gcp_environment_no_op.cc:29] ALTS: Platforms other than Linux and Windows are not supported\n",
      "I0000 00:00:1724693044.906689  947423 check_gcp_environment_no_op.cc:29] ALTS: Platforms other than Linux and Windows are not supported\n",
      "I0000 00:00:1724693045.523766  947423 check_gcp_environment_no_op.cc:29] ALTS: Platforms other than Linux and Windows are not supported\n",
      "I0000 00:00:1724693046.358961  947423 check_gcp_environment_no_op.cc:29] ALTS: Platforms other than Linux and Windows are not supported\n",
      "I0000 00:00:1724693046.976088  947423 check_gcp_environment_no_op.cc:29] ALTS: Platforms other than Linux and Windows are not supported\n",
      "I0000 00:00:1724693047.867879  947423 check_gcp_environment_no_op.cc:29] ALTS: Platforms other than Linux and Windows are not supported\n",
      "I0000 00:00:1724693048.849625  947423 check_gcp_environment_no_op.cc:29] ALTS: Platforms other than Linux and Windows are not supported\n",
      "I0000 00:00:1724693049.747645  947423 check_gcp_environment_no_op.cc:29] ALTS: Platforms other than Linux and Windows are not supported\n",
      "I0000 00:00:1724693050.240965  947423 check_gcp_environment_no_op.cc:29] ALTS: Platforms other than Linux and Windows are not supported\n",
      "I0000 00:00:1724693050.823192  947423 check_gcp_environment_no_op.cc:29] ALTS: Platforms other than Linux and Windows are not supported\n",
      "I0000 00:00:1724693051.338983  947423 check_gcp_environment_no_op.cc:29] ALTS: Platforms other than Linux and Windows are not supported\n",
      "I0000 00:00:1724693052.280343  947423 check_gcp_environment_no_op.cc:29] ALTS: Platforms other than Linux and Windows are not supported\n",
      "I0000 00:00:1724693052.788081  947423 check_gcp_environment_no_op.cc:29] ALTS: Platforms other than Linux and Windows are not supported\n",
      "I0000 00:00:1724693053.430222  947423 check_gcp_environment_no_op.cc:29] ALTS: Platforms other than Linux and Windows are not supported\n",
      "I0000 00:00:1724693054.001298  947423 check_gcp_environment_no_op.cc:29] ALTS: Platforms other than Linux and Windows are not supported\n",
      "I0000 00:00:1724693054.679907  947423 check_gcp_environment_no_op.cc:29] ALTS: Platforms other than Linux and Windows are not supported\n",
      "I0000 00:00:1724693055.220605  947423 check_gcp_environment_no_op.cc:29] ALTS: Platforms other than Linux and Windows are not supported\n",
      "I0000 00:00:1724693055.816119  947423 check_gcp_environment_no_op.cc:29] ALTS: Platforms other than Linux and Windows are not supported\n",
      "I0000 00:00:1724693056.422871  947423 check_gcp_environment_no_op.cc:29] ALTS: Platforms other than Linux and Windows are not supported\n",
      "I0000 00:00:1724693057.013832  947423 check_gcp_environment_no_op.cc:29] ALTS: Platforms other than Linux and Windows are not supported\n",
      "I0000 00:00:1724693057.592706  947423 check_gcp_environment_no_op.cc:29] ALTS: Platforms other than Linux and Windows are not supported\n",
      "I0000 00:00:1724693058.122045  947423 check_gcp_environment_no_op.cc:29] ALTS: Platforms other than Linux and Windows are not supported\n",
      "I0000 00:00:1724693058.666433  947423 check_gcp_environment_no_op.cc:29] ALTS: Platforms other than Linux and Windows are not supported\n",
      "I0000 00:00:1724693059.382736  947423 check_gcp_environment_no_op.cc:29] ALTS: Platforms other than Linux and Windows are not supported\n",
      "I0000 00:00:1724693059.920031  947423 check_gcp_environment_no_op.cc:29] ALTS: Platforms other than Linux and Windows are not supported\n",
      "I0000 00:00:1724693060.446905  947423 check_gcp_environment_no_op.cc:29] ALTS: Platforms other than Linux and Windows are not supported\n",
      "I0000 00:00:1724693061.060145  947423 check_gcp_environment_no_op.cc:29] ALTS: Platforms other than Linux and Windows are not supported\n",
      "I0000 00:00:1724693061.695197  947423 check_gcp_environment_no_op.cc:29] ALTS: Platforms other than Linux and Windows are not supported\n",
      "I0000 00:00:1724693062.241222  947423 check_gcp_environment_no_op.cc:29] ALTS: Platforms other than Linux and Windows are not supported\n",
      "I0000 00:00:1724693063.021304  947423 check_gcp_environment_no_op.cc:29] ALTS: Platforms other than Linux and Windows are not supported\n",
      "I0000 00:00:1724693063.649561  947423 check_gcp_environment_no_op.cc:29] ALTS: Platforms other than Linux and Windows are not supported\n",
      "I0000 00:00:1724693064.299583  947423 check_gcp_environment_no_op.cc:29] ALTS: Platforms other than Linux and Windows are not supported\n",
      "I0000 00:00:1724693065.094092  947423 check_gcp_environment_no_op.cc:29] ALTS: Platforms other than Linux and Windows are not supported\n",
      "I0000 00:00:1724693065.727678  947423 check_gcp_environment_no_op.cc:29] ALTS: Platforms other than Linux and Windows are not supported\n",
      "I0000 00:00:1724693066.403248  947423 check_gcp_environment_no_op.cc:29] ALTS: Platforms other than Linux and Windows are not supported\n",
      "I0000 00:00:1724693067.218664  947423 check_gcp_environment_no_op.cc:29] ALTS: Platforms other than Linux and Windows are not supported\n",
      "I0000 00:00:1724693067.767518  947423 check_gcp_environment_no_op.cc:29] ALTS: Platforms other than Linux and Windows are not supported\n",
      "I0000 00:00:1724693068.293021  947423 check_gcp_environment_no_op.cc:29] ALTS: Platforms other than Linux and Windows are not supported\n",
      "I0000 00:00:1724693068.960137  947423 check_gcp_environment_no_op.cc:29] ALTS: Platforms other than Linux and Windows are not supported\n",
      "I0000 00:00:1724693069.467035  947423 check_gcp_environment_no_op.cc:29] ALTS: Platforms other than Linux and Windows are not supported\n",
      "I0000 00:00:1724693070.119461  947423 check_gcp_environment_no_op.cc:29] ALTS: Platforms other than Linux and Windows are not supported\n",
      "I0000 00:00:1724693070.714067  947423 check_gcp_environment_no_op.cc:29] ALTS: Platforms other than Linux and Windows are not supported\n",
      "I0000 00:00:1724693071.235168  947423 check_gcp_environment_no_op.cc:29] ALTS: Platforms other than Linux and Windows are not supported\n",
      "I0000 00:00:1724693071.856344  947423 check_gcp_environment_no_op.cc:29] ALTS: Platforms other than Linux and Windows are not supported\n",
      "I0000 00:00:1724693072.414413  947423 check_gcp_environment_no_op.cc:29] ALTS: Platforms other than Linux and Windows are not supported\n",
      "I0000 00:00:1724693073.129554  947423 check_gcp_environment_no_op.cc:29] ALTS: Platforms other than Linux and Windows are not supported\n",
      "I0000 00:00:1724693073.860739  947423 check_gcp_environment_no_op.cc:29] ALTS: Platforms other than Linux and Windows are not supported\n",
      "I0000 00:00:1724693074.521958  947423 check_gcp_environment_no_op.cc:29] ALTS: Platforms other than Linux and Windows are not supported\n",
      "I0000 00:00:1724693075.056138  947423 check_gcp_environment_no_op.cc:29] ALTS: Platforms other than Linux and Windows are not supported\n",
      "I0000 00:00:1724693075.590321  947423 check_gcp_environment_no_op.cc:29] ALTS: Platforms other than Linux and Windows are not supported\n",
      "I0000 00:00:1724693076.143064  947423 check_gcp_environment_no_op.cc:29] ALTS: Platforms other than Linux and Windows are not supported\n",
      "I0000 00:00:1724693076.825055  947423 check_gcp_environment_no_op.cc:29] ALTS: Platforms other than Linux and Windows are not supported\n",
      "I0000 00:00:1724693077.629013  947423 check_gcp_environment_no_op.cc:29] ALTS: Platforms other than Linux and Windows are not supported\n",
      "I0000 00:00:1724693078.124334  947423 check_gcp_environment_no_op.cc:29] ALTS: Platforms other than Linux and Windows are not supported\n",
      "I0000 00:00:1724693078.721014  947423 check_gcp_environment_no_op.cc:29] ALTS: Platforms other than Linux and Windows are not supported\n",
      "I0000 00:00:1724693079.319661  947423 check_gcp_environment_no_op.cc:29] ALTS: Platforms other than Linux and Windows are not supported\n",
      "I0000 00:00:1724693080.055162  947423 check_gcp_environment_no_op.cc:29] ALTS: Platforms other than Linux and Windows are not supported\n",
      "I0000 00:00:1724693080.651200  947423 check_gcp_environment_no_op.cc:29] ALTS: Platforms other than Linux and Windows are not supported\n",
      "I0000 00:00:1724693081.299858  947423 check_gcp_environment_no_op.cc:29] ALTS: Platforms other than Linux and Windows are not supported\n",
      "I0000 00:00:1724693081.977968  947423 check_gcp_environment_no_op.cc:29] ALTS: Platforms other than Linux and Windows are not supported\n",
      "I0000 00:00:1724693082.594141  947423 check_gcp_environment_no_op.cc:29] ALTS: Platforms other than Linux and Windows are not supported\n",
      "I0000 00:00:1724693083.274677  947423 check_gcp_environment_no_op.cc:29] ALTS: Platforms other than Linux and Windows are not supported\n",
      "I0000 00:00:1724693083.846678  947423 check_gcp_environment_no_op.cc:29] ALTS: Platforms other than Linux and Windows are not supported\n",
      "I0000 00:00:1724693084.862348  947423 check_gcp_environment_no_op.cc:29] ALTS: Platforms other than Linux and Windows are not supported\n",
      "I0000 00:00:1724693085.463548  947423 check_gcp_environment_no_op.cc:29] ALTS: Platforms other than Linux and Windows are not supported\n"
     ]
    }
   ],
   "source": [
    "#############################################\n",
    "## MAIN SECTION #############################\n",
    "#############################################\n",
    "\n",
    "diseasesTreated = []\n",
    "therapyActiveIngredients = []\n",
    "originalText = []\n",
    "for index, item in enumerate(indications_data):\n",
    "    if index < 100:\n",
    "        try:\n",
    "            input_text = \"Produce a list of diseases treated in the following therapeutic indications list:\\n\" + item +  \"Please format the list as [\\'item1\\', \\'item2\\', ... ,\\'itemN\\']. Do not inlude any other text in the response. If no diseases are treated, return an empty list as \\'[]\\'. If the therapy is preventative, add the tag (preventative) to the item. If the drug is only used for diagnostic purposes, return \\'diagnostic/contrast/radiolabel\\'.\"\n",
    "            response = generate(input_text, safety_settings, generation_config)\n",
    "            diseasesTreated.append(response)\n",
    "            therapyActiveIngredients.append(activeIngredientsData[index])\n",
    "            originalText.append(item)\n",
    "        except:\n",
    "            diseasesTreated.append(\"LLM ingest returned error\")\n",
    "            therapyActiveIngredients.append(activeIngredientsData[index])\n",
    "            originalText.append(item)\n",
    "\n",
    "\n",
    "data = pd.DataFrame({'active ingredient(s)':therapyActiveIngredients,'original text':originalText, 'diseases treated': diseasesTreated})\n",
    "data.to_excel(\"drugs_to_diseases_test.xlsx\")\n",
    "            "
   ]
  },
  {
   "cell_type": "code",
   "execution_count": 25,
   "id": "34cd2709-71c2-4df0-adb9-39f4b2b2e312",
   "metadata": {},
   "outputs": [
    {
     "name": "stdout",
     "output_type": "stream",
     "text": [
      "    Unnamed: 0                  active ingredient(s)  \\\n",
      "0            0                      {'POLYTHIAZIDE'}   \n",
      "1            1                        {'METOLAZONE'}   \n",
      "2            2                        {'TOLAZAMIDE'}   \n",
      "3            3                       {'DIATRIZOATE'}   \n",
      "4            4                        {'MEPERIDINE'}   \n",
      "..         ...                                   ...   \n",
      "95          95                         {'TORSEMIDE'}   \n",
      "96          96                         {'MUPIROCIN'}   \n",
      "97          97  {'FLUOROMETHOLONE', 'SULFACETAMIDE'}   \n",
      "98          98                         {'QUINIDINE'}   \n",
      "99          99     {'PROPOXYPHENE', 'ACETAMINOPHEN'}   \n",
      "\n",
      "                                        original text  \\\n",
      "0   Renese is indicated as adjunctive therapy in e...   \n",
      "1   MYKROX Tablets are indicated for the treatment...   \n",
      "2   TOLINASE Tablets are indicated as an adjunct t...   \n",
      "3   HYPAQUE-76 is indicated for excretory urograph...   \n",
      "4   Meperidine is indicated for the relief of mode...   \n",
      "..                                                ...   \n",
      "95  DEMADEX is indicated for the treatment of edem...   \n",
      "96  Centany (mupirocin ointment),2% is indicated f...   \n",
      "97  FML-S® ophthalmic suspension is indicated for ...   \n",
      "98  In patients with symptomatic atrial fibrillati...   \n",
      "99  Propoxyphene hydrochloride and acetaminophen t...   \n",
      "\n",
      "                                     diseases treated  \n",
      "0   ['edema associated with congestive heart failu...  \n",
      "1                  ['hypertension (preventative)'] \\n  \n",
      "2   ['noninsulin dependent diabetes mellitus (Type...  \n",
      "3               ['diagnostic/contrast/radiolabel'] \\n  \n",
      "4                    ['pain (moderate to severe)'] \\n  \n",
      "..                                                ...  \n",
      "95  ['edema associated with congestive heart failu...  \n",
      "96  ['impetigo due to Staphylococcus aureus', 'imp...  \n",
      "97  ['inflammatory conditions of the palpebral and...  \n",
      "98  ['atrial fibrillation (preventative)', 'atrial...  \n",
      "99            ['pain (mild-to-moderate)', 'fever'] \\n  \n",
      "\n",
      "[100 rows x 4 columns]\n"
     ]
    }
   ],
   "source": [
    "\n",
    "reingested_data = pd.read_excel(\"drugs_to_diseases_test.xlsx\")\n",
    "print(reingested_data)"
   ]
  },
  {
   "cell_type": "code",
   "execution_count": 29,
   "id": "cc1b7217-6446-4c3e-869d-37e603b7966e",
   "metadata": {},
   "outputs": [
    {
     "name": "stdout",
     "output_type": "stream",
     "text": [
      "['noninsulin dependent diabetes mellitus (Type II)', 'hyperglycemia', 'long-term cardiovascular complications of diabetes (preventative)', 'neural complications of diabetes (preventative)'] \n",
      "\n"
     ]
    }
   ],
   "source": [
    "print(reingested_data['diseases treated'][2])"
   ]
  },
  {
   "cell_type": "code",
   "execution_count": 35,
   "id": "cf706416-70ce-4549-9ec0-7e17093ad1a1",
   "metadata": {},
   "outputs": [],
   "source": [
    "x = reingested_data['active ingredient(s)'][17]"
   ]
  },
  {
   "cell_type": "code",
   "execution_count": 36,
   "id": "71d8916f-e469-4eec-8912-b90e6665bd6b",
   "metadata": {},
   "outputs": [
    {
     "name": "stdout",
     "output_type": "stream",
     "text": [
      "{'DEXTROSE', 'POTASSIUM CHLORIDE', 'SODIUM GLUCONATE', 'SODIUM ACETATE', 'MAGNESIUM CHLORIDE', 'SODIUM CHLORIDE'}\n"
     ]
    }
   ],
   "source": [
    "print(x)"
   ]
  },
  {
   "cell_type": "code",
   "execution_count": 37,
   "id": "0a6020ea-8ee4-4b6b-8231-7a6e0e0991dc",
   "metadata": {},
   "outputs": [
    {
     "name": "stdout",
     "output_type": "stream",
     "text": [
      "113\n"
     ]
    }
   ],
   "source": [
    "print(len(x))"
   ]
  },
  {
   "cell_type": "code",
   "execution_count": null,
   "id": "acab7d4f-92e4-4568-bd0b-2955e588cc5a",
   "metadata": {},
   "outputs": [],
   "source": []
  }
 ],
 "metadata": {
  "kernelspec": {
   "display_name": "Python 3 (ipykernel)",
   "language": "python",
   "name": "python3"
  },
  "language_info": {
   "codemirror_mode": {
    "name": "ipython",
    "version": 3
   },
   "file_extension": ".py",
   "mimetype": "text/x-python",
   "name": "python",
   "nbconvert_exporter": "python",
   "pygments_lexer": "ipython3",
   "version": "3.11.8"
  }
 },
 "nbformat": 4,
 "nbformat_minor": 5
}
