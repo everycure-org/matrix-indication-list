{
 "cells": [
  {
   "cell_type": "code",
   "execution_count": 1,
   "id": "47f7fe84-0882-48b1-9c9e-2ac027518f88",
   "metadata": {},
   "outputs": [
    {
     "name": "stdout",
     "output_type": "stream",
     "text": [
      "reading directory /Volumes/MML/dailymed_labels/prescription_1/\n"
     ]
    },
    {
     "name": "stderr",
     "output_type": "stream",
     "text": [
      "  9%|███▎                                  | 5149/59572 [01:02<13:32, 66.94it/s]"
     ]
    },
    {
     "name": "stdout",
     "output_type": "stream",
     "text": [
      "text_elem was empty\n"
     ]
    },
    {
     "name": "stderr",
     "output_type": "stream",
     "text": [
      " 10%|███▋                                  | 5759/59572 [01:10<10:34, 84.83it/s]"
     ]
    },
    {
     "name": "stdout",
     "output_type": "stream",
     "text": [
      "text_elem was empty\n"
     ]
    },
    {
     "name": "stderr",
     "output_type": "stream",
     "text": [
      " 14%|█████▏                                | 8228/59572 [01:42<10:41, 79.99it/s]"
     ]
    },
    {
     "name": "stdout",
     "output_type": "stream",
     "text": [
      "text_elem was empty\n"
     ]
    },
    {
     "name": "stderr",
     "output_type": "stream",
     "text": [
      " 18%|██████▋                              | 10860/59572 [02:14<15:47, 51.41it/s]"
     ]
    },
    {
     "name": "stdout",
     "output_type": "stream",
     "text": [
      "text_elem was empty\n"
     ]
    },
    {
     "name": "stderr",
     "output_type": "stream",
     "text": [
      " 20%|███████▏                            | 11943/59572 [02:30<06:40, 119.04it/s]"
     ]
    },
    {
     "name": "stdout",
     "output_type": "stream",
     "text": [
      "text_elem was empty\n",
      "text_elem was empty\n"
     ]
    },
    {
     "name": "stderr",
     "output_type": "stream",
     "text": [
      "100%|████████████████████████████████████| 59572/59572 [03:10<00:00, 312.99it/s]\n"
     ]
    },
    {
     "name": "stdout",
     "output_type": "stream",
     "text": [
      "reading directory /Volumes/MML/dailymed_labels/prescription_2/\n"
     ]
    },
    {
     "name": "stderr",
     "output_type": "stream",
     "text": [
      "  5%|██                                   | 2336/42720 [00:35<05:25, 123.89it/s]"
     ]
    },
    {
     "name": "stdout",
     "output_type": "stream",
     "text": [
      "text_elem was empty\n",
      "text_elem was empty\n"
     ]
    },
    {
     "name": "stderr",
     "output_type": "stream",
     "text": [
      " 14%|█████▏                                | 5814/42720 [01:26<09:07, 67.42it/s]"
     ]
    },
    {
     "name": "stdout",
     "output_type": "stream",
     "text": [
      "text_elem was empty\n"
     ]
    },
    {
     "name": "stderr",
     "output_type": "stream",
     "text": [
      " 15%|█████▊                                | 6518/42720 [01:36<07:56, 76.04it/s]"
     ]
    },
    {
     "name": "stdout",
     "output_type": "stream",
     "text": [
      "text_elem was empty\n"
     ]
    },
    {
     "name": "stderr",
     "output_type": "stream",
     "text": [
      " 19%|███████▏                              | 8096/42720 [02:00<10:48, 53.41it/s]"
     ]
    },
    {
     "name": "stdout",
     "output_type": "stream",
     "text": [
      "text_elem was empty\n"
     ]
    },
    {
     "name": "stderr",
     "output_type": "stream",
     "text": [
      " 25%|█████████                            | 10472/42720 [02:36<08:49, 60.88it/s]"
     ]
    },
    {
     "name": "stdout",
     "output_type": "stream",
     "text": [
      "text_elem was empty\n"
     ]
    },
    {
     "name": "stderr",
     "output_type": "stream",
     "text": [
      "100%|████████████████████████████████████| 42720/42720 [02:39<00:00, 268.40it/s]\n"
     ]
    },
    {
     "name": "stdout",
     "output_type": "stream",
     "text": [
      "reading directory /Volumes/MML/dailymed_labels/prescription_3/\n"
     ]
    },
    {
     "name": "stderr",
     "output_type": "stream",
     "text": [
      "  2%|▋                                      | 696/39684 [00:10<11:23, 57.01it/s]"
     ]
    },
    {
     "name": "stdout",
     "output_type": "stream",
     "text": [
      "text_elem was empty\n"
     ]
    },
    {
     "name": "stderr",
     "output_type": "stream",
     "text": [
      "  4%|█▎                                    | 1400/39684 [00:20<07:49, 81.63it/s]"
     ]
    },
    {
     "name": "stdout",
     "output_type": "stream",
     "text": [
      "text_elem was empty\n"
     ]
    },
    {
     "name": "stderr",
     "output_type": "stream",
     "text": [
      "  4%|█▍                                    | 1545/39684 [00:23<11:26, 55.53it/s]"
     ]
    },
    {
     "name": "stdout",
     "output_type": "stream",
     "text": [
      "text_elem was empty\n"
     ]
    },
    {
     "name": "stderr",
     "output_type": "stream",
     "text": [
      "  6%|██                                    | 2209/39684 [00:34<12:03, 51.78it/s]"
     ]
    },
    {
     "name": "stdout",
     "output_type": "stream",
     "text": [
      "text_elem was empty\n"
     ]
    },
    {
     "name": "stderr",
     "output_type": "stream",
     "text": [
      "  6%|██▎                                   | 2387/39684 [00:37<11:22, 54.64it/s]"
     ]
    },
    {
     "name": "stdout",
     "output_type": "stream",
     "text": [
      "text_elem was empty\n"
     ]
    },
    {
     "name": "stderr",
     "output_type": "stream",
     "text": [
      "  7%|██▌                                   | 2645/39684 [00:41<10:21, 59.57it/s]"
     ]
    },
    {
     "name": "stdout",
     "output_type": "stream",
     "text": [
      "text_elem was empty\n"
     ]
    },
    {
     "name": "stderr",
     "output_type": "stream",
     "text": [
      "  8%|███▏                                  | 3357/39684 [00:53<08:57, 67.60it/s]"
     ]
    },
    {
     "name": "stdout",
     "output_type": "stream",
     "text": [
      "text_elem was empty\n"
     ]
    },
    {
     "name": "stderr",
     "output_type": "stream",
     "text": [
      " 19%|███████▎                              | 7610/39684 [01:55<07:54, 67.57it/s]"
     ]
    },
    {
     "name": "stdout",
     "output_type": "stream",
     "text": [
      "text_elem was empty\n"
     ]
    },
    {
     "name": "stderr",
     "output_type": "stream",
     "text": [
      " 21%|████████▏                             | 8517/39684 [02:10<08:50, 58.77it/s]"
     ]
    },
    {
     "name": "stdout",
     "output_type": "stream",
     "text": [
      "text_elem was empty\n"
     ]
    },
    {
     "name": "stderr",
     "output_type": "stream",
     "text": [
      " 23%|████████▊                             | 9153/39684 [02:20<10:11, 49.92it/s]"
     ]
    },
    {
     "name": "stdout",
     "output_type": "stream",
     "text": [
      "text_elem was empty\n"
     ]
    },
    {
     "name": "stderr",
     "output_type": "stream",
     "text": [
      "100%|████████████████████████████████████| 39684/39684 [02:33<00:00, 259.03it/s]\n"
     ]
    },
    {
     "name": "stdout",
     "output_type": "stream",
     "text": [
      "reading directory /Volumes/MML/dailymed_labels/prescription_4/\n"
     ]
    },
    {
     "name": "stderr",
     "output_type": "stream",
     "text": [
      "  2%|▌                                      | 570/37760 [00:08<08:54, 69.58it/s]"
     ]
    },
    {
     "name": "stdout",
     "output_type": "stream",
     "text": [
      "text_elem was empty\n"
     ]
    },
    {
     "name": "stderr",
     "output_type": "stream",
     "text": [
      "  5%|██                                    | 2070/37760 [00:31<08:26, 70.45it/s]"
     ]
    },
    {
     "name": "stdout",
     "output_type": "stream",
     "text": [
      "text_elem was empty\n"
     ]
    },
    {
     "name": "stderr",
     "output_type": "stream",
     "text": [
      " 14%|█████▎                                | 5268/37760 [01:26<07:48, 69.38it/s]"
     ]
    },
    {
     "name": "stdout",
     "output_type": "stream",
     "text": [
      "text_elem was empty\n"
     ]
    },
    {
     "name": "stderr",
     "output_type": "stream",
     "text": [
      "100%|████████████████████████████████████| 37760/37760 [02:41<00:00, 233.61it/s]\n"
     ]
    },
    {
     "name": "stdout",
     "output_type": "stream",
     "text": [
      "reading directory /Volumes/MML/dailymed_labels/prescription_5/\n"
     ]
    },
    {
     "name": "stderr",
     "output_type": "stream",
     "text": [
      "  7%|██▊                                   | 1615/21776 [00:29<04:56, 68.05it/s]"
     ]
    },
    {
     "name": "stdout",
     "output_type": "stream",
     "text": [
      "text_elem was empty\n"
     ]
    },
    {
     "name": "stderr",
     "output_type": "stream",
     "text": [
      "  8%|███▏                                  | 1819/21776 [00:33<04:34, 72.64it/s]"
     ]
    },
    {
     "name": "stdout",
     "output_type": "stream",
     "text": [
      "text_elem was empty\n"
     ]
    },
    {
     "name": "stderr",
     "output_type": "stream",
     "text": [
      " 10%|███▋                                  | 2098/21776 [00:38<06:02, 54.31it/s]"
     ]
    },
    {
     "name": "stdout",
     "output_type": "stream",
     "text": [
      "text_elem was empty\n"
     ]
    },
    {
     "name": "stderr",
     "output_type": "stream",
     "text": [
      " 14%|█████▎                                | 3037/21776 [00:55<05:30, 56.70it/s]"
     ]
    },
    {
     "name": "stdout",
     "output_type": "stream",
     "text": [
      "text_elem was empty\n"
     ]
    },
    {
     "name": "stderr",
     "output_type": "stream",
     "text": [
      " 15%|█████▊                                | 3307/21776 [01:00<05:01, 61.17it/s]"
     ]
    },
    {
     "name": "stdout",
     "output_type": "stream",
     "text": [
      "text_elem was empty\n"
     ]
    },
    {
     "name": "stderr",
     "output_type": "stream",
     "text": [
      "100%|████████████████████████████████████| 21776/21776 [01:39<00:00, 219.23it/s]\n"
     ]
    },
    {
     "name": "stdout",
     "output_type": "stream",
     "text": [
      "finished ingesting contraindications\n"
     ]
    }
   ],
   "source": [
    "import xml.etree.ElementTree as ET\n",
    "import json\n",
    "import pandas as pd\n",
    "import zipfile\n",
    "import os\n",
    "import string\n",
    "import re\n",
    "from tqdm import tqdm\n",
    "\n",
    "def strip_spaces(myString):\n",
    "    _RE_COMBINE_WHITESPACE = re.compile(r\"(?a:\\s+)\")\n",
    "    _RE_STRIP_WHITESPACE = re.compile(r\"(?a:^\\s+|\\s+$)\")\n",
    "    myString = _RE_COMBINE_WHITESPACE.sub(\" \", myString)\n",
    "    myString = _RE_STRIP_WHITESPACE.sub(\"\", myString)\n",
    "    return myString\n",
    "\n",
    "def unzip_file(zip_path, extract_to_folder):\n",
    "    if not os.path.isfile(zip_path):\n",
    "        raise FileNotFoundError(f\"The file {zip_path} does not exist.\")\n",
    "    os.makedirs(extract_to_folder, exist_ok=True) \n",
    "    with zipfile.ZipFile(zip_path, 'r') as zip_ref:\n",
    "        zip_ref.extractall(extract_to_folder)\n",
    "       #print(f\"Extracted all contents to {extract_to_folder}\")\n",
    "\n",
    "def extract_active_ingredient(xml_file):\n",
    "    tree = ET.parse(xml_file)\n",
    "    root = tree.getroot()\n",
    "    ns = {'fda': 'urn:hl7-org:v3'}\n",
    "    active_ingredients = []\n",
    "    for ingredient in root.findall(\".//fda:activeMoiety/fda:name\", ns):\n",
    "        active_ingredients.append(ingredient.text)\n",
    "    return active_ingredients\n",
    "        \n",
    "def getcontraindications(xmlfilepath):\n",
    "    tree = ET.parse(xmlfilepath)\n",
    "    root = tree.getroot()\n",
    "    ns = {'hl7': 'urn:hl7-org:v3'}\n",
    "    sections = root.findall('.//hl7:section', namespaces=ns)\n",
    "    for section in sections:\n",
    "        codeSection = section.find('.//hl7:code', namespaces=ns)\n",
    "        code = codeSection.get('code') if codeSection is not None else \"no code\"\n",
    "        #if code == \"43685-7\":\n",
    "        if code == \"34070-3\":\n",
    "            text_elem = section.find('.//hl7:text', namespaces=ns)\n",
    "            try:\n",
    "                text_content = ''.join(text_elem.itertext()).strip()\n",
    "            except:\n",
    "                print('text_elem was empty')\n",
    "                return \"\"\n",
    "            return strip_spaces(text_content.strip(string.whitespace.replace(\" \", \"\")))\n",
    "        else:\n",
    "            text_elem = None    \n",
    "    return None\n",
    "\n",
    "def get_contraindications_codes(xmlfilepath):\n",
    "    #print(\"Finding contraindications for \", xmlfilepath)\n",
    "    tree = ET.parse(xmlfilepath)\n",
    "    root = tree.getroot()\n",
    "    ns = {'hl7': 'urn:hl7-org:v3'}\n",
    "    sections = root.findall('.//hl7:code', namespaces=ns)\n",
    "    for code in sections:\n",
    "        print(code.get('code'))\n",
    "\n",
    "################################################################\n",
    "## MAIN STARTS HERE ############################################\n",
    "################################################################\n",
    "\n",
    "#TODO: write this into __main__, take location of labels as arg\n",
    "dir = \"/Volumes/MML/dailymed_labels/\"\n",
    "\n",
    "\n",
    "contraindicationsList = []\n",
    "ingredientsList = []\n",
    "counts = 0\n",
    "foundCounts = 0\n",
    "notFoundCounts = 0\n",
    "\n",
    "dirs = []\n",
    "\n",
    "# TODO: automatically find, download, unzip all of the dailymed folders\n",
    "labelFolders = [\"prescription_1/\", \"prescription_2/\", \"prescription_3/\", \"prescription_4/\", \"prescription_5/\"]\n",
    "\n",
    "for label in labelFolders:\n",
    "    dirs.append(dir+label)\n",
    "\n",
    "\n",
    "\n",
    "for directory in dirs:\n",
    "    print(f\"reading directory {directory}\")\n",
    "    for files in tqdm(os.listdir(directory), total = len(os.listdir(directory))):\n",
    "        if files.endswith(\".zip\") and \"._\" not in files:\n",
    "            fpath = directory + files\n",
    "            fileRoot = files.replace(\".zip\",\"\")\n",
    "            dest = directory + fileRoot\n",
    "            #try:\n",
    "                #unzip_file(fpath,dest)\n",
    "            #except:\n",
    "                #print(\"failed to unzip file \", fpath)\n",
    "                #continue\n",
    "            xmlfile=\"\"\n",
    "            for contents in os.listdir(dest):\n",
    "                if contents.endswith(\".xml\") and \"~$\" not in contents:\n",
    "                    xmlfile=contents.replace(\"._\",\"\")\n",
    "            xmlfilepath = dest+\"/\"+xmlfile.replace(\"~$\",\"\")\n",
    "            #print(xmlfilepath)\n",
    "            contraindications = getcontraindications(xmlfilepath)\n",
    "            active_ingredients = extract_active_ingredient(xmlfilepath)\n",
    "            for ind, item in enumerate(active_ingredients):\n",
    "                active_ingredients[ind]=item.upper()\n",
    "            ingredientsList.append(set(active_ingredients))\n",
    "            if contraindications is not None:\n",
    "                contraindicationsList.append(contraindications)\n",
    "                foundCounts += 1\n",
    "                #print(foundCounts, \" contraindications successfully found so far\")\n",
    "            else:\n",
    "                notFoundCounts += 1\n",
    "                #print(notFoundCounts, \" contraindications not found so far, failed to find for \", files)\n",
    "                contraindicationsList.append(\"\")\n",
    "            counts +=1\n",
    "    \n",
    "print(\"finished ingesting contraindications\")\n",
    "data = pd.DataFrame({'active ingredient':ingredientsList, 'contraindications':contraindicationsList})\n",
    "data.to_excel(\"fda_label_contraindications_sections.xlsx\")"
   ]
  },
  {
   "cell_type": "code",
   "execution_count": null,
   "id": "ccbc76fc-927e-47f2-b1e9-811fc01c0a44",
   "metadata": {},
   "outputs": [],
   "source": []
  }
 ],
 "metadata": {
  "kernelspec": {
   "display_name": "Python 3 (ipykernel)",
   "language": "python",
   "name": "python3"
  },
  "language_info": {
   "codemirror_mode": {
    "name": "ipython",
    "version": 3
   },
   "file_extension": ".py",
   "mimetype": "text/x-python",
   "name": "python",
   "nbconvert_exporter": "python",
   "pygments_lexer": "ipython3",
   "version": "3.11.9"
  }
 },
 "nbformat": 4,
 "nbformat_minor": 5
}
