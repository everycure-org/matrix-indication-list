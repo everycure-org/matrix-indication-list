{
 "cells": [
  {
   "cell_type": "code",
   "execution_count": 10,
   "id": "ff23ce73-0293-45be-a6bc-dfbcc9073064",
   "metadata": {},
   "outputs": [
    {
     "name": "stdout",
     "output_type": "stream",
     "text": [
      "50378  contraindications sections found\n"
     ]
    }
   ],
   "source": [
    "import pandas as pd \n",
    "import base64\n",
    "import vertexai\n",
    "from vertexai.generative_models import GenerativeModel, Part, SafetySetting, FinishReason\n",
    "from google.cloud import aiplatform\n",
    "import vertexai.preview.generative_models as generative_models\n",
    "import asyncio\n",
    "from tqdm import tqdm\n",
    "import nest_asyncio\n",
    "nest_asyncio.apply()\n",
    "\n",
    "\n",
    "# async def generate(input_text, safety_settings, generation_config):\n",
    "#     vertexai.init(project=\"mtrx-wg2-modeling-dev-9yj\", location=\"us-east1\")\n",
    "#     model = GenerativeModel(\n",
    "#         \"gemini-1.5-flash-001\",\n",
    "#     )\n",
    "#     responses = model.generate_content(\n",
    "#       [input_text],\n",
    "#       generation_config=generation_config,\n",
    "#       safety_settings=safety_settings,\n",
    "#       stream=True,\n",
    "#     )\n",
    "    \n",
    "#     resText = \"\"\n",
    "#     for response in responses:\n",
    "#         resText+=response.text\n",
    "        \n",
    "#     return resText\n",
    "\n",
    "async def generate_content(model: GenerativeModel, prompt: str) -> str:\n",
    "    response = await model.generate_content_async(prompt)\n",
    "    return response.text\n",
    "\n",
    "async def process_responses(responses: list[asyncio.Task]) -> list[str]:\n",
    "    results = []\n",
    "    for response in responses:\n",
    "        result = await response\n",
    "        results.append(result)\n",
    "    return results\n",
    "\n",
    "async def generate_responses(prompts: list[str]) -> list[str]:\n",
    "    project_id = \"mtrx-wg2-modeling-dev-9yj\"\n",
    "    location = \"us-east1\"\n",
    "    aiplatform.init(project=project_id, location=location)\n",
    "\n",
    "    model = GenerativeModel(\"gemini-1.5-flash-001\")\n",
    "    tasks = [asyncio.create_task(generate_content(model, prompt)) for prompt in prompts]\n",
    "    responses = await process_responses(tasks)\n",
    "    return responses\n",
    "\n",
    "\n",
    "#############################################\n",
    "## GEMINI STUFF #############################\n",
    "#############################################\n",
    "generation_config = {\n",
    "    \"max_output_tokens\": 8192,\n",
    "    \"temperature\": 1,\n",
    "    \"top_p\": 0.95,\n",
    "}\n",
    "\n",
    "safety_settings = [\n",
    "    SafetySetting(\n",
    "        category=SafetySetting.HarmCategory.HARM_CATEGORY_HATE_SPEECH,\n",
    "        threshold=SafetySetting.HarmBlockThreshold.BLOCK_ONLY_HIGH\n",
    "    ),\n",
    "    SafetySetting(\n",
    "        category=SafetySetting.HarmCategory.HARM_CATEGORY_DANGEROUS_CONTENT,\n",
    "        threshold=SafetySetting.HarmBlockThreshold.BLOCK_ONLY_HIGH\n",
    "    ),\n",
    "    SafetySetting(\n",
    "        category=SafetySetting.HarmCategory.HARM_CATEGORY_SEXUALLY_EXPLICIT,\n",
    "        threshold=SafetySetting.HarmBlockThreshold.BLOCK_ONLY_HIGH\n",
    "    ),\n",
    "    SafetySetting(\n",
    "        category=SafetySetting.HarmCategory.HARM_CATEGORY_HARASSMENT,\n",
    "        threshold=SafetySetting.HarmBlockThreshold.BLOCK_ONLY_HIGH\n",
    "    ),\n",
    "]\n",
    "\n",
    "drugs_to_contraindications = pd.read_excel(\"../contraindicationList.xlsx\")\n",
    "\n",
    "contraindicationsData = list(drugs_to_contraindications['contraindications'])\n",
    "activeIngredientsData = list(drugs_to_contraindications['active ingredient'])\n",
    "print(len(contraindicationsData), ' contraindications sections found')\n",
    "\n",
    "\n"
   ]
  },
  {
   "cell_type": "code",
   "execution_count": 11,
   "id": "aa063a72",
   "metadata": {},
   "outputs": [
    {
     "name": "stderr",
     "output_type": "stream",
     "text": [
      "100%|████████████████████████████████| 50378/50378 [00:00<00:00, 4050698.70it/s]\n"
     ]
    },
    {
     "ename": "RuntimeError",
     "evalue": "asyncio.run() cannot be called from a running event loop",
     "output_type": "error",
     "traceback": [
      "\u001b[0;31m---------------------------------------------------------------------------\u001b[0m",
      "\u001b[0;31mRuntimeError\u001b[0m                              Traceback (most recent call last)",
      "Cell \u001b[0;32mIn[11], line 39\u001b[0m\n\u001b[1;32m     36\u001b[0m         therapyActiveIngredients\u001b[38;5;241m.\u001b[39mappend(activeIngredientsData[index])\n\u001b[1;32m     37\u001b[0m         originalText\u001b[38;5;241m.\u001b[39mappend(item)\n\u001b[0;32m---> 39\u001b[0m diseasesContraindicated \u001b[38;5;241m=\u001b[39m \u001b[43masyncio\u001b[49m\u001b[38;5;241;43m.\u001b[39;49m\u001b[43mrun\u001b[49m\u001b[43m(\u001b[49m\u001b[43masync_get_structured_contraindications_lists\u001b[49m\u001b[43m(\u001b[49m\u001b[43minput_texts\u001b[49m\u001b[43m)\u001b[49m\u001b[43m)\u001b[49m\n\u001b[1;32m     42\u001b[0m data \u001b[38;5;241m=\u001b[39m pd\u001b[38;5;241m.\u001b[39mDataFrame({\u001b[38;5;124m'\u001b[39m\u001b[38;5;124mactive ingredient(s)\u001b[39m\u001b[38;5;124m'\u001b[39m:therapyActiveIngredients,\u001b[38;5;124m'\u001b[39m\u001b[38;5;124moriginal text\u001b[39m\u001b[38;5;124m'\u001b[39m:originalText, \u001b[38;5;124m'\u001b[39m\u001b[38;5;124mdiseases contraindicated for \u001b[39m\u001b[38;5;124m'\u001b[39m: diseasesContraindicated})\n\u001b[1;32m     43\u001b[0m data\u001b[38;5;241m.\u001b[39mto_excel(\u001b[38;5;124m\"\u001b[39m\u001b[38;5;124mdrugs_to_contraindications.xlsx\u001b[39m\u001b[38;5;124m\"\u001b[39m)\n",
      "File \u001b[0;32m~/.local/share/uv/python/cpython-3.11.9-macos-aarch64-none/lib/python3.11/asyncio/runners.py:186\u001b[0m, in \u001b[0;36mrun\u001b[0;34m(main, debug)\u001b[0m\n\u001b[1;32m    161\u001b[0m \u001b[38;5;250m\u001b[39m\u001b[38;5;124;03m\"\"\"Execute the coroutine and return the result.\u001b[39;00m\n\u001b[1;32m    162\u001b[0m \n\u001b[1;32m    163\u001b[0m \u001b[38;5;124;03mThis function runs the passed coroutine, taking care of\u001b[39;00m\n\u001b[0;32m   (...)\u001b[0m\n\u001b[1;32m    182\u001b[0m \u001b[38;5;124;03m    asyncio.run(main())\u001b[39;00m\n\u001b[1;32m    183\u001b[0m \u001b[38;5;124;03m\"\"\"\u001b[39;00m\n\u001b[1;32m    184\u001b[0m \u001b[38;5;28;01mif\u001b[39;00m events\u001b[38;5;241m.\u001b[39m_get_running_loop() \u001b[38;5;129;01mis\u001b[39;00m \u001b[38;5;129;01mnot\u001b[39;00m \u001b[38;5;28;01mNone\u001b[39;00m:\n\u001b[1;32m    185\u001b[0m     \u001b[38;5;66;03m# fail fast with short traceback\u001b[39;00m\n\u001b[0;32m--> 186\u001b[0m     \u001b[38;5;28;01mraise\u001b[39;00m \u001b[38;5;167;01mRuntimeError\u001b[39;00m(\n\u001b[1;32m    187\u001b[0m         \u001b[38;5;124m\"\u001b[39m\u001b[38;5;124masyncio.run() cannot be called from a running event loop\u001b[39m\u001b[38;5;124m\"\u001b[39m)\n\u001b[1;32m    189\u001b[0m \u001b[38;5;28;01mwith\u001b[39;00m Runner(debug\u001b[38;5;241m=\u001b[39mdebug) \u001b[38;5;28;01mas\u001b[39;00m runner:\n\u001b[1;32m    190\u001b[0m     \u001b[38;5;28;01mreturn\u001b[39;00m runner\u001b[38;5;241m.\u001b[39mrun(main)\n",
      "\u001b[0;31mRuntimeError\u001b[0m: asyncio.run() cannot be called from a running event loop"
     ]
    }
   ],
   "source": [
    "#############################################\n",
    "## MAIN SECTION #############################\n",
    "#############################################\n",
    "therapyActiveIngredients = []\n",
    "originalText = []\n",
    "n_contraindications = len(contraindicationsData)\n",
    "\n",
    "#def get_structured_list(text: str, index: int, safety_settings, generation_config) -> None:\n",
    "    # try:\n",
    "    #     response = generate(text, safety_settings, generation_config)\n",
    "    # except:\n",
    "    #     response = \"LLM Error\"\n",
    "    # return response.text\n",
    "\n",
    "\n",
    "def get_input_text(active_ingredient_data, contraindication_text):\n",
    "    text = \"Produce a list of diseases contraindicated for the active ingredient \" + str(active_ingredient_data) + \" in the following contraindications list:\\n\" + str(contraindication_text) + \"Please format the list as [\\'item1\\', \\'item2\\', ... ,\\'itemN\\']. Do not include any other text in the response. If no diseases are contraindicated for, return an empty list as \\'[]\\'. If the drug is only used for diagnostic purposes, return \\'diagnostic/contrast/radiolabel\\'. Do not include hypersensitivity or allergy to the named drug as a contraindication. This code is being deployed in bulk so if the contraindications section is just \\<template\\> or similar, return an empty list. Be mindful of the distinction between contraindications in patient groups and \"\n",
    "    return text    \n",
    "\n",
    "\n",
    "async def async_get_structured_contraindications_lists(prompts) -> list[str]:\n",
    "    responses = await generate_responses(prompts)\n",
    "    return responses\n",
    "\n",
    "\n",
    "\n",
    "\n",
    "originalText = []\n",
    "diseasesContraindicated = []\n",
    "input_texts = []\n",
    "tasks = [0] * n_contraindications\n",
    "results = []\n",
    "for index, item in tqdm(enumerate(contraindicationsData), total=n_contraindications):\n",
    "    if index < 100:\n",
    "        input_texts.append(get_input_text(activeIngredientsData[index], item))\n",
    "        therapyActiveIngredients.append(activeIngredientsData[index])\n",
    "        originalText.append(item)\n",
    "\n",
    "diseasesContraindicated = asyncio.run(async_get_structured_contraindications_lists(input_texts))\n",
    "\n",
    "\n",
    "data = pd.DataFrame({'active ingredient(s)':therapyActiveIngredients,'original text':originalText, 'diseases contraindicated for ': diseasesContraindicated})\n",
    "data.to_excel(\"drugs_to_contraindications.xlsx\")"
   ]
  },
  {
   "cell_type": "code",
   "execution_count": 5,
   "id": "fb364f82-fa76-44f7-965c-6173b9322f54",
   "metadata": {},
   "outputs": [
    {
     "ename": "TypeError",
     "evalue": "object of type 'coroutine' has no len()",
     "output_type": "error",
     "traceback": [
      "\u001b[0;31m---------------------------------------------------------------------------\u001b[0m",
      "\u001b[0;31mTypeError\u001b[0m                                 Traceback (most recent call last)",
      "Cell \u001b[0;32mIn[5], line 1\u001b[0m\n\u001b[0;32m----> 1\u001b[0m \u001b[38;5;28mprint\u001b[39m(\u001b[38;5;28;43mlen\u001b[39;49m\u001b[43m(\u001b[49m\u001b[43mdiseasesContraindicated\u001b[49m\u001b[43m)\u001b[49m)\n\u001b[1;32m      2\u001b[0m \u001b[38;5;28mprint\u001b[39m(\u001b[38;5;28mlen\u001b[39m(therapyActiveIngredients))\n\u001b[1;32m      3\u001b[0m \u001b[38;5;28mprint\u001b[39m(\u001b[38;5;28mlen\u001b[39m(originalText))\n",
      "\u001b[0;31mTypeError\u001b[0m: object of type 'coroutine' has no len()"
     ]
    }
   ],
   "source": [
    "print(len(diseasesContraindicated))\n",
    "print(len(therapyActiveIngredients))\n",
    "print(len(originalText))"
   ]
  }
 ],
 "metadata": {
  "kernelspec": {
   "display_name": "Python 3 (ipykernel)",
   "language": "python",
   "name": "python3"
  },
  "language_info": {
   "codemirror_mode": {
    "name": "ipython",
    "version": 3
   },
   "file_extension": ".py",
   "mimetype": "text/x-python",
   "name": "python",
   "nbconvert_exporter": "python",
   "pygments_lexer": "ipython3",
   "version": "3.11.9"
  }
 },
 "nbformat": 4,
 "nbformat_minor": 5
}
