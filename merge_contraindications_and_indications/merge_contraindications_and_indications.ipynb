{
 "cells": [
  {
   "cell_type": "code",
   "execution_count": 124,
   "id": "a941c1d9-feab-464b-895c-71dd1780ea7c",
   "metadata": {},
   "outputs": [
    {
     "name": "stdout",
     "output_type": "stream",
     "text": [
      "reading files...\n",
      "removing unneeded columns and dropping duplicate entries\n",
      "tagging contraindications and indications\n",
      "combining lists...\n",
      "adding indication / contraindication tags to drugs...\n"
     ]
    },
    {
     "name": "stderr",
     "output_type": "stream",
     "text": [
      "100%|██████████████████████████████████████████████████████████████████████████████████████████████████████████████████████████████████████████████████| 118712/118712 [00:03<00:00, 36219.05it/s]\n"
     ]
    },
    {
     "name": "stdout",
     "output_type": "stream",
     "text": [
      "saving file...\n",
      "completed indication and contraindication merging\n"
     ]
    }
   ],
   "source": [
    "import pandas as pd\n",
    "import numpy as np\n",
    "from tqdm import tqdm\n",
    "\n",
    "print(\"reading files...\")\n",
    "indications = pd.read_csv(\"../merge_lists/indicationList.tsv\", sep='\\t')\n",
    "contraindications = pd.read_excel(\"../contraindications/contraindications_to_diseases/diseaseList_to_ids/contraindication_list_filled.xlsx\")\n",
    "\n",
    "print(\"removing unneeded columns and dropping duplicate entries\")\n",
    "contraindications.drop('Unnamed: 0.2', axis=1, inplace=True)\n",
    "contraindications.drop('Unnamed: 0.1', axis=1, inplace=True)\n",
    "contraindications.drop('Unnamed: 0', axis=1, inplace=True)\n",
    "contraindications.drop_duplicates(subset=['active ingredients', 'drug ID', 'disease curie'], keep='first')\n",
    "\n",
    "print(\"tagging contraindications and indications\")\n",
    "contraindications['contraindication'] = True\n",
    "indications['indication'] = True\n",
    "contraindications = contraindications.rename(columns={'disease list': 'disease name', 'disease curie':'disease ID'})\n",
    "indications = indications.rename(columns={'disease list':'disease name', \n",
    "                                          'disease curie':'disease ID', \n",
    "                                          'active ingredients in therapy':'active ingredients',\n",
    "                                          'disease ID labels':'disease label',\n",
    "                                          'drug ID Label': 'drug label', \n",
    "                                          'disease IDs': 'disease ID',\n",
    "                                          'list of diseases': 'disease name',\n",
    "                                          })\n",
    "contraindications['drug|disease'] = list(f\"{row['drug ID']}|{row['disease ID']}\" for idx,row in contraindications.iterrows())\n",
    "indications = indications[['active ingredients', \n",
    "                           'drug ID', \n",
    "                           'drug label', \n",
    "                           'disease name', \n",
    "                           'disease ID', \n",
    "                           'disease label',  \n",
    "                           'indication', \n",
    "                           'drug|disease',\n",
    "                          ]]\n",
    "print(\"combining lists...\")\n",
    "ground_truths_list = pd.concat([indications, contraindications], axis=1)\n",
    "result = pd.concat([indications, contraindications], axis=0).reset_index(drop=True)\n",
    "result.drop('source list', axis=1, inplace=True)\n",
    "\n",
    "print(\"adding indication / contraindication tags to drugs...\")\n",
    "for idx, row in tqdm(result.iterrows(), total = len(result)):\n",
    "    if np.isnan((row['indication'])):\n",
    "        result.loc[idx, \"indication\"] = False\n",
    "        #result['indication'][idx]=False\n",
    "    if np.isnan((row['contraindication'])):\n",
    "        #result['contraindication'][idx]=False\n",
    "        result.loc[idx, \"contraindication\"] = False\n",
    "print(\"saving file...\")\n",
    "result.to_csv(\"ground-truths-list.tsv\", sep='\\t')\n",
    "print(\"completed indication and contraindication merging\")"
   ]
  },
  {
   "cell_type": "code",
   "execution_count": 121,
   "id": "ca509bf6-7299-4958-9c38-fbaffeed365b",
   "metadata": {},
   "outputs": [
    {
     "name": "stdout",
     "output_type": "stream",
     "text": [
      "10    False\n",
      "10    False\n",
      "Name: contraindication, dtype: object\n"
     ]
    }
   ],
   "source": [
    "print(result.loc[10, \"contraindication\"])"
   ]
  },
  {
   "cell_type": "code",
   "execution_count": null,
   "id": "82c40f45-392f-4f69-850f-4357b13c4e5a",
   "metadata": {},
   "outputs": [],
   "source": []
  }
 ],
 "metadata": {
  "kernelspec": {
   "display_name": "Python 3 (ipykernel)",
   "language": "python",
   "name": "python3"
  },
  "language_info": {
   "codemirror_mode": {
    "name": "ipython",
    "version": 3
   },
   "file_extension": ".py",
   "mimetype": "text/x-python",
   "name": "python",
   "nbconvert_exporter": "python",
   "pygments_lexer": "ipython3",
   "version": "3.11.9"
  }
 },
 "nbformat": 4,
 "nbformat_minor": 5
}
