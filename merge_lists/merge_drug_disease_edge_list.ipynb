{
 "cells": [
  {
   "cell_type": "code",
   "execution_count": 5,
   "id": "61dd45dc-f38a-4869-a0ad-225ad3071ef4",
   "metadata": {},
   "outputs": [
    {
     "name": "stdout",
     "output_type": "stream",
     "text": [
      "212309  items in fda frame\n",
      "4033  items in ema frame\n",
      "5227  items in pmda frame\n"
     ]
    }
   ],
   "source": [
    "import pandas as pd\n",
    "\n",
    "\n",
    "fda_frame = pd.read_excel(\"../dailymed_ingest/labels_to_diseases/diseases_to_IDs/indication-list-fda-v1.xlsx\")\n",
    "ema_frame = pd.read_excel(\"../ema_indications_ingest/diseases_to_IDs/indication-list-ema-v1.xlsx\")\n",
    "pmda_frame = pd.read_excel(\"../pmda_indications_ingest/diseases_to_IDs/indication-list-pmda-v1.xlsx\")\n",
    "\n",
    "print(len(fda_frame), \" items in fda frame\")\n",
    "print(len(ema_frame), \" items in ema frame\")\n",
    "print(len(pmda_frame), \" items in pmda frame\")"
   ]
  },
  {
   "cell_type": "code",
   "execution_count": 9,
   "id": "4d36b36e-56b3-4576-900a-5306a182b96d",
   "metadata": {},
   "outputs": [],
   "source": [
    "df1 = pd.merge(ema_frame, pmda_frame, how=\"outer\")\n",
    "df2 = pd.merge(df1, fda_frame, how=\"outer\")\n",
    "df2 = df2.loc[:, ~df2.columns.str.contains('^Unnamed')]"
   ]
  },
  {
   "cell_type": "code",
   "execution_count": 10,
   "id": "1357fe4a-1540-4213-b22d-5081faf717e3",
   "metadata": {},
   "outputs": [],
   "source": [
    "df2.to_csv(\"indicationList.tsv\", sep=\"\\t\")"
   ]
  },
  {
   "cell_type": "code",
   "execution_count": null,
   "id": "2870f690-be2d-47a3-a1ab-cf9bf32b3f87",
   "metadata": {},
   "outputs": [],
   "source": []
  }
 ],
 "metadata": {
  "kernelspec": {
   "display_name": "Python 3 (ipykernel)",
   "language": "python",
   "name": "python3"
  },
  "language_info": {
   "codemirror_mode": {
    "name": "ipython",
    "version": 3
   },
   "file_extension": ".py",
   "mimetype": "text/x-python",
   "name": "python",
   "nbconvert_exporter": "python",
   "pygments_lexer": "ipython3",
   "version": "3.11.8"
  }
 },
 "nbformat": 4,
 "nbformat_minor": 5
}
