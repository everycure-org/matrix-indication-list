{
 "cells": [
  {
   "cell_type": "code",
   "id": "61dd45dc-f38a-4869-a0ad-225ad3071ef4",
   "metadata": {
    "ExecuteTime": {
     "end_time": "2024-09-11T18:30:47.161034Z",
     "start_time": "2024-09-11T18:30:40.023836Z"
    }
   },
   "source": [
    "import pandas as pd\n",
    "\n",
    "fda_frame = pd.read_excel(\"../dailymed_ingest/labels_to_diseases/diseases_to_IDs/indication-list-fda-v1.xlsx\")\n",
    "ema_frame = pd.read_excel(\"../ema_indications_ingest/diseases_to_IDs/indication-list-ema-v1.xlsx\")\n",
    "pmda_frame = pd.read_excel(\"../pmda_indications_ingest/diseases_to_IDs/indication-list-pmda-v1.xlsx\")\n",
    "\n",
    "print(len(fda_frame), \" items in fda frame\")\n",
    "print(len(ema_frame), \" items in ema frame\")\n",
    "print(len(pmda_frame), \" items in pmda frame\")"
   ],
   "outputs": [
    {
     "name": "stdout",
     "output_type": "stream",
     "text": [
      "212309  items in fda frame\n",
      "4033  items in ema frame\n",
      "5227  items in pmda frame\n"
     ]
    }
   ],
   "execution_count": 1
  },
  {
   "cell_type": "code",
   "id": "4d36b36e-56b3-4576-900a-5306a182b96d",
   "metadata": {
    "ExecuteTime": {
     "end_time": "2024-09-11T18:30:47.366897Z",
     "start_time": "2024-09-11T18:30:47.161983Z"
    }
   },
   "source": [
    "df1 = pd.merge(ema_frame, pmda_frame, how=\"outer\")\n",
    "df2 = pd.merge(df1, fda_frame, how=\"outer\")\n",
    "df2 = df2.loc[:, ~df2.columns.str.contains('^Unnamed')]"
   ],
   "outputs": [],
   "execution_count": 2
  },
  {
   "metadata": {
    "ExecuteTime": {
     "end_time": "2024-09-11T18:30:47.370681Z",
     "start_time": "2024-09-11T18:30:47.367517Z"
    }
   },
   "cell_type": "code",
   "source": "print(df2)",
   "id": "255bf6865df7a36b",
   "outputs": [
    {
     "name": "stdout",
     "output_type": "stream",
     "text": [
      "          disease IDs                    disease ID labels  \\\n",
      "0       MONDO:0005101                   ulcerative colitis   \n",
      "1       UMLS:C0151995      Degeneration of uterine fibroid   \n",
      "2       MONDO:0005133                        endometriosis   \n",
      "3       MONDO:0100244  paroxysmal nocturnal hemoglobinuria   \n",
      "4       MONDO:0005417             wet macular degeneration   \n",
      "...               ...                                  ...   \n",
      "221564  MONDO:0005301                   multiple sclerosis   \n",
      "221565  MONDO:0043797                   spinal cord injury   \n",
      "221566  MONDO:0002545                 spinal cord disorder   \n",
      "221567  MONDO:0021187                       hyperlipidemia   \n",
      "221568  MONDO:0005439        familial hypercholesterolemia   \n",
      "\n",
      "                                         list of diseases  \\\n",
      "0             ULCERATIVE COLITIS (EXCLUDING SEVERE CASES)   \n",
      "1                                        UTERINE FIBROIDS   \n",
      "2                                           ENDOMETRIOSIS   \n",
      "3                    PAROXYSMAL NOCTURNAL HAEMOGLOBINURIA   \n",
      "4       NEOVASCULAR (WET) AGE-RELATED MACULAR DEGENERA...   \n",
      "...                                                   ...   \n",
      "221564                                 MULTIPLE SCLEROSIS   \n",
      "221565                               SPINAL CORD INJURIES   \n",
      "221566                               SPINAL CORD DISEASES   \n",
      "221567                             PRIMARY HYPERLIPIDEMIA   \n",
      "221568  HETEROZYGOUS FAMILIAL HYPERCHOLESTEROLEMIA (HEFH)   \n",
      "\n",
      "                       active ingredients in therapy          drug ID  \\\n",
      "0                                         BUDESONIDE       CHEBI:3207   \n",
      "1       RELUGOLIX, ESTRADIOL, NORETHISTERONE ACETATE       CHEBI:7627   \n",
      "2       RELUGOLIX, ESTRADIOL, NORETHISTERONE ACETATE       CHEBI:7627   \n",
      "3                                          DANICOPAN     CHEBI:231416   \n",
      "4                                        AFLIBERCEPT  UNII:15C2VL427D   \n",
      "...                                              ...              ...   \n",
      "221564                                  {'BACLOFEN'}     CHEBI:187893   \n",
      "221565                                  {'BACLOFEN'}     CHEBI:187893   \n",
      "221566                                  {'BACLOFEN'}     CHEBI:187893   \n",
      "221567                               {'COLESEVELAM'}      CHEBI:59594   \n",
      "221568                               {'COLESEVELAM'}      CHEBI:59594   \n",
      "\n",
      "         drug ID Label  \n",
      "0           Budesonide  \n",
      "1       Norethisterone  \n",
      "2       Norethisterone  \n",
      "3            Danicopan  \n",
      "4          Aflibercept  \n",
      "...                ...  \n",
      "221564        Baclofen  \n",
      "221565        Baclofen  \n",
      "221566        Baclofen  \n",
      "221567     Colesevelam  \n",
      "221568     Colesevelam  \n",
      "\n",
      "[221569 rows x 6 columns]\n"
     ]
    }
   ],
   "execution_count": 3
  },
  {
   "cell_type": "code",
   "id": "1357fe4a-1540-4213-b22d-5081faf717e3",
   "metadata": {
    "ExecuteTime": {
     "end_time": "2024-09-11T18:30:47.676651Z",
     "start_time": "2024-09-11T18:30:47.371947Z"
    }
   },
   "source": [
    "df2.to_csv(\"indicationList.tsv\", sep=\"\\t\")\n",
    "df2['drug|disease'] = df2['disease IDs'].astype(str) + '|' + df2['drug ID']\n",
    "print (df2)"
   ],
   "outputs": [
    {
     "name": "stdout",
     "output_type": "stream",
     "text": [
      "          disease IDs                    disease ID labels  \\\n",
      "0       MONDO:0005101                   ulcerative colitis   \n",
      "1       UMLS:C0151995      Degeneration of uterine fibroid   \n",
      "2       MONDO:0005133                        endometriosis   \n",
      "3       MONDO:0100244  paroxysmal nocturnal hemoglobinuria   \n",
      "4       MONDO:0005417             wet macular degeneration   \n",
      "...               ...                                  ...   \n",
      "221564  MONDO:0005301                   multiple sclerosis   \n",
      "221565  MONDO:0043797                   spinal cord injury   \n",
      "221566  MONDO:0002545                 spinal cord disorder   \n",
      "221567  MONDO:0021187                       hyperlipidemia   \n",
      "221568  MONDO:0005439        familial hypercholesterolemia   \n",
      "\n",
      "                                         list of diseases  \\\n",
      "0             ULCERATIVE COLITIS (EXCLUDING SEVERE CASES)   \n",
      "1                                        UTERINE FIBROIDS   \n",
      "2                                           ENDOMETRIOSIS   \n",
      "3                    PAROXYSMAL NOCTURNAL HAEMOGLOBINURIA   \n",
      "4       NEOVASCULAR (WET) AGE-RELATED MACULAR DEGENERA...   \n",
      "...                                                   ...   \n",
      "221564                                 MULTIPLE SCLEROSIS   \n",
      "221565                               SPINAL CORD INJURIES   \n",
      "221566                               SPINAL CORD DISEASES   \n",
      "221567                             PRIMARY HYPERLIPIDEMIA   \n",
      "221568  HETEROZYGOUS FAMILIAL HYPERCHOLESTEROLEMIA (HEFH)   \n",
      "\n",
      "                       active ingredients in therapy          drug ID  \\\n",
      "0                                         BUDESONIDE       CHEBI:3207   \n",
      "1       RELUGOLIX, ESTRADIOL, NORETHISTERONE ACETATE       CHEBI:7627   \n",
      "2       RELUGOLIX, ESTRADIOL, NORETHISTERONE ACETATE       CHEBI:7627   \n",
      "3                                          DANICOPAN     CHEBI:231416   \n",
      "4                                        AFLIBERCEPT  UNII:15C2VL427D   \n",
      "...                                              ...              ...   \n",
      "221564                                  {'BACLOFEN'}     CHEBI:187893   \n",
      "221565                                  {'BACLOFEN'}     CHEBI:187893   \n",
      "221566                                  {'BACLOFEN'}     CHEBI:187893   \n",
      "221567                               {'COLESEVELAM'}      CHEBI:59594   \n",
      "221568                               {'COLESEVELAM'}      CHEBI:59594   \n",
      "\n",
      "         drug ID Label                   drug|disease  \n",
      "0           Budesonide       MONDO:0005101|CHEBI:3207  \n",
      "1       Norethisterone       UMLS:C0151995|CHEBI:7627  \n",
      "2       Norethisterone       MONDO:0005133|CHEBI:7627  \n",
      "3            Danicopan     MONDO:0100244|CHEBI:231416  \n",
      "4          Aflibercept  MONDO:0005417|UNII:15C2VL427D  \n",
      "...                ...                            ...  \n",
      "221564        Baclofen     MONDO:0005301|CHEBI:187893  \n",
      "221565        Baclofen     MONDO:0043797|CHEBI:187893  \n",
      "221566        Baclofen     MONDO:0002545|CHEBI:187893  \n",
      "221567     Colesevelam      MONDO:0021187|CHEBI:59594  \n",
      "221568     Colesevelam      MONDO:0005439|CHEBI:59594  \n",
      "\n",
      "[221569 rows x 7 columns]\n"
     ]
    }
   ],
   "execution_count": 4
  },
  {
   "cell_type": "code",
   "id": "2870f690-be2d-47a3-a1ab-cf9bf32b3f87",
   "metadata": {
    "ExecuteTime": {
     "end_time": "2024-09-11T18:30:47.942803Z",
     "start_time": "2024-09-11T18:30:47.677351Z"
    }
   },
   "source": [
    "def join_strings(series, delimiter=\", \"):\n",
    "    return delimiter.join(series)\n",
    "agg_functions = {'disease ID labels': 'first', 'drug ID Label': 'first', 'drug ID': 'first', 'disease IDs': 'first', 'active ingredients in therapy':lambda x: list(x), 'list of diseases': lambda x: list(x)}\n",
    "\n",
    "df3 = df2.groupby(df2['drug|disease']).aggregate(agg_functions)\n",
    "\n",
    "\n",
    "print(len(set(df2['disease IDs'])), \" unique diseases indicated for\")\n",
    "print(len(set(df2['drug ID'])), \" unique drugs accounted for\")\n",
    "print(len(set(df2['drug|disease'])), \" unique drug->treats->disease edges\")\n",
    "    "
   ],
   "outputs": [
    {
     "name": "stdout",
     "output_type": "stream",
     "text": [
      "3728  unique diseases indicated for\n",
      "2353  unique drugs accounted for\n",
      "15744  unique drug->treats->disease edges\n"
     ]
    }
   ],
   "execution_count": 5
  },
  {
   "cell_type": "code",
   "id": "72d1bf06-b7d6-492e-9a5f-b4108e6d9c2a",
   "metadata": {
    "ExecuteTime": {
     "end_time": "2024-09-11T18:30:47.947120Z",
     "start_time": "2024-09-11T18:30:47.943445Z"
    }
   },
   "source": [
    "print(df3)"
   ],
   "outputs": [
    {
     "name": "stdout",
     "output_type": "stream",
     "text": [
      "                                                   disease ID labels  \\\n",
      "drug|disease                                                           \n",
      "DOID:10017|CHEBI:7915            multiple endocrine neoplasia type 1   \n",
      "DOID:12177|CHEBI:4911               common variable immunodeficiency   \n",
      "DOID:12177|DRUGBANK:DB00028         common variable immunodeficiency   \n",
      "DOID:14275|CHEBI:16469                                atrophic vulva   \n",
      "DOID:14275|CHEBI:28689                                atrophic vulva   \n",
      "...                                                              ...   \n",
      "UMLS:C5848083|CHEBI:8382                         Postpartum mastitis   \n",
      "UMLS:C5848632|CHEBI:17026                    Progesterone deficiency   \n",
      "UMLS:C5849339|UNII:P188ANX8CK                 HER2 low breast cancer   \n",
      "UMLS:C5879660|CHEBI:31632      Postpartum acute deep vein thrombosis   \n",
      "UMLS:C5880575|CHEBI:36560         Low cumulative sun damage melanoma   \n",
      "\n",
      "                                        drug ID Label           drug ID  \\\n",
      "drug|disease                                                              \n",
      "DOID:10017|CHEBI:7915                    Pantoprazole        CHEBI:7915   \n",
      "DOID:12177|CHEBI:4911                       Etoposide        CHEBI:4911   \n",
      "DOID:12177|DRUGBANK:DB00028    Human immunoglobulin G  DRUGBANK:DB00028   \n",
      "DOID:14275|CHEBI:16469                      Estradiol       CHEBI:16469   \n",
      "DOID:14275|CHEBI:28689                     Prasterone       CHEBI:28689   \n",
      "...                                               ...               ...   \n",
      "UMLS:C5848083|CHEBI:8382                   Prednisone        CHEBI:8382   \n",
      "UMLS:C5848632|CHEBI:17026                Progesterone       CHEBI:17026   \n",
      "UMLS:C5849339|UNII:P188ANX8CK             Trastuzumab   UNII:P188ANX8CK   \n",
      "UMLS:C5879660|CHEBI:31632         fondaparinux sodium       CHEBI:31632   \n",
      "UMLS:C5880575|CHEBI:36560                  Zinc oxide       CHEBI:36560   \n",
      "\n",
      "                                 disease IDs  \\\n",
      "drug|disease                                   \n",
      "DOID:10017|CHEBI:7915             DOID:10017   \n",
      "DOID:12177|CHEBI:4911             DOID:12177   \n",
      "DOID:12177|DRUGBANK:DB00028       DOID:12177   \n",
      "DOID:14275|CHEBI:16469            DOID:14275   \n",
      "DOID:14275|CHEBI:28689            DOID:14275   \n",
      "...                                      ...   \n",
      "UMLS:C5848083|CHEBI:8382       UMLS:C5848083   \n",
      "UMLS:C5848632|CHEBI:17026      UMLS:C5848632   \n",
      "UMLS:C5849339|UNII:P188ANX8CK  UMLS:C5849339   \n",
      "UMLS:C5879660|CHEBI:31632      UMLS:C5879660   \n",
      "UMLS:C5880575|CHEBI:36560      UMLS:C5880575   \n",
      "\n",
      "                                                   active ingredients in therapy  \\\n",
      "drug|disease                                                                       \n",
      "DOID:10017|CHEBI:7915                                         [{'PANTOPRAZOLE'}]   \n",
      "DOID:12177|CHEBI:4911                                                [ETOPOSIDE]   \n",
      "DOID:12177|DRUGBANK:DB00028                         [{'HUMAN IMMUNOGLOBULIN G'}]   \n",
      "DOID:14275|CHEBI:16469         [{'ESTRADIOL'}, {'ESTRADIOL'}, {'ESTRADIOL'}, ...   \n",
      "DOID:14275|CHEBI:28689         [PRASTERONE, {'PRASTERONE'}, {'PRASTERONE'}, {...   \n",
      "...                                                                          ...   \n",
      "UMLS:C5848083|CHEBI:8382                        [{'PREDNISONE'}, {'PREDNISONE'}]   \n",
      "UMLS:C5848632|CHEBI:17026                                     [{'PROGESTERONE'}]   \n",
      "UMLS:C5849339|UNII:P188ANX8CK  [TRASTUZUMAB DERUXTECAN, {'TRASTUZUMAB DERUXTE...   \n",
      "UMLS:C5879660|CHEBI:31632                                  [FONDAPARINUX SODIUM]   \n",
      "UMLS:C5880575|CHEBI:36560         [{'OCTINOXATE', 'ZINC OXIDE', 'HYDROQUINONE'}]   \n",
      "\n",
      "                                                                list of diseases  \n",
      "drug|disease                                                                      \n",
      "DOID:10017|CHEBI:7915                     [MULTIPLE ENDOCRINE NEOPLASIA TYPE 1)]  \n",
      "DOID:12177|CHEBI:4911                         [COMMON VARIABLE IMMUNODEFICIENCY]  \n",
      "DOID:12177|DRUGBANK:DB00028            [COMMON VARIABLE IMMUNODEFICIENCY (CVID)]  \n",
      "DOID:14275|CHEBI:16469         [VULVAR ATROPHY, VULVAR ATROPHY (MENOPAUSAL), ...  \n",
      "DOID:14275|CHEBI:28689         [VULVAR ATROPHY, DYSPAREUNIA (SYMPTOM OF VULVA...  \n",
      "...                                                                          ...  \n",
      "UMLS:C5848083|CHEBI:8382              [POSTPARTUM MASTITIS, POSTPARTUM MASTITIS]  \n",
      "UMLS:C5848632|CHEBI:17026                              [PROGESTERONE DEFICIENCY]  \n",
      "UMLS:C5849339|UNII:P188ANX8CK   [HER2-LOW BREAST CANCER, HER2-LOW BREAST CANCER]  \n",
      "UMLS:C5879660|CHEBI:31632                           [ACUTE DEEP VEIN THROMBOSIS]  \n",
      "UMLS:C5880575|CHEBI:36560                                           [SUN DAMAGE]  \n",
      "\n",
      "[15744 rows x 6 columns]\n"
     ]
    }
   ],
   "execution_count": 6
  },
  {
   "metadata": {
    "ExecuteTime": {
     "end_time": "2024-09-11T18:30:48.863373Z",
     "start_time": "2024-09-11T18:30:47.947724Z"
    }
   },
   "cell_type": "code",
   "source": [
    "for i in range(len(df3)):\n",
    "    if isinstance(df3.iloc[i,4][0], float) == False:\n",
    "        remove_brackets = [l.replace(\"{\",\"\").replace(\"}\",\"\").replace(\"'\",'') for l in df3.iloc[i,4]]\n",
    "        unique_list = sorted(list(set(remove_brackets)))\n",
    "        df3.iloc[i,4] = unique_list\n",
    "    \n",
    "    unique_disease_list = sorted(list(set(df3.iloc[i,5])))\n",
    "    df3.iloc[i,5] = unique_disease_list\n",
    "    "
   ],
   "id": "49eb2f9af086acb9",
   "outputs": [],
   "execution_count": 7
  },
  {
   "metadata": {
    "ExecuteTime": {
     "end_time": "2024-09-11T18:30:48.867504Z",
     "start_time": "2024-09-11T18:30:48.864082Z"
    }
   },
   "cell_type": "code",
   "source": "print(df3)",
   "id": "e28133ca497749be",
   "outputs": [
    {
     "name": "stdout",
     "output_type": "stream",
     "text": [
      "                                                   disease ID labels  \\\n",
      "drug|disease                                                           \n",
      "DOID:10017|CHEBI:7915            multiple endocrine neoplasia type 1   \n",
      "DOID:12177|CHEBI:4911               common variable immunodeficiency   \n",
      "DOID:12177|DRUGBANK:DB00028         common variable immunodeficiency   \n",
      "DOID:14275|CHEBI:16469                                atrophic vulva   \n",
      "DOID:14275|CHEBI:28689                                atrophic vulva   \n",
      "...                                                              ...   \n",
      "UMLS:C5848083|CHEBI:8382                         Postpartum mastitis   \n",
      "UMLS:C5848632|CHEBI:17026                    Progesterone deficiency   \n",
      "UMLS:C5849339|UNII:P188ANX8CK                 HER2 low breast cancer   \n",
      "UMLS:C5879660|CHEBI:31632      Postpartum acute deep vein thrombosis   \n",
      "UMLS:C5880575|CHEBI:36560         Low cumulative sun damage melanoma   \n",
      "\n",
      "                                        drug ID Label           drug ID  \\\n",
      "drug|disease                                                              \n",
      "DOID:10017|CHEBI:7915                    Pantoprazole        CHEBI:7915   \n",
      "DOID:12177|CHEBI:4911                       Etoposide        CHEBI:4911   \n",
      "DOID:12177|DRUGBANK:DB00028    Human immunoglobulin G  DRUGBANK:DB00028   \n",
      "DOID:14275|CHEBI:16469                      Estradiol       CHEBI:16469   \n",
      "DOID:14275|CHEBI:28689                     Prasterone       CHEBI:28689   \n",
      "...                                               ...               ...   \n",
      "UMLS:C5848083|CHEBI:8382                   Prednisone        CHEBI:8382   \n",
      "UMLS:C5848632|CHEBI:17026                Progesterone       CHEBI:17026   \n",
      "UMLS:C5849339|UNII:P188ANX8CK             Trastuzumab   UNII:P188ANX8CK   \n",
      "UMLS:C5879660|CHEBI:31632         fondaparinux sodium       CHEBI:31632   \n",
      "UMLS:C5880575|CHEBI:36560                  Zinc oxide       CHEBI:36560   \n",
      "\n",
      "                                 disease IDs  \\\n",
      "drug|disease                                   \n",
      "DOID:10017|CHEBI:7915             DOID:10017   \n",
      "DOID:12177|CHEBI:4911             DOID:12177   \n",
      "DOID:12177|DRUGBANK:DB00028       DOID:12177   \n",
      "DOID:14275|CHEBI:16469            DOID:14275   \n",
      "DOID:14275|CHEBI:28689            DOID:14275   \n",
      "...                                      ...   \n",
      "UMLS:C5848083|CHEBI:8382       UMLS:C5848083   \n",
      "UMLS:C5848632|CHEBI:17026      UMLS:C5848632   \n",
      "UMLS:C5849339|UNII:P188ANX8CK  UMLS:C5849339   \n",
      "UMLS:C5879660|CHEBI:31632      UMLS:C5879660   \n",
      "UMLS:C5880575|CHEBI:36560      UMLS:C5880575   \n",
      "\n",
      "                                        active ingredients in therapy  \\\n",
      "drug|disease                                                            \n",
      "DOID:10017|CHEBI:7915                                  [PANTOPRAZOLE]   \n",
      "DOID:12177|CHEBI:4911                                     [ETOPOSIDE]   \n",
      "DOID:12177|DRUGBANK:DB00028                  [HUMAN IMMUNOGLOBULIN G]   \n",
      "DOID:14275|CHEBI:16469                                    [ESTRADIOL]   \n",
      "DOID:14275|CHEBI:28689                                   [PRASTERONE]   \n",
      "...                                                               ...   \n",
      "UMLS:C5848083|CHEBI:8382                                 [PREDNISONE]   \n",
      "UMLS:C5848632|CHEBI:17026                              [PROGESTERONE]   \n",
      "UMLS:C5849339|UNII:P188ANX8CK                [TRASTUZUMAB DERUXTECAN]   \n",
      "UMLS:C5879660|CHEBI:31632                       [FONDAPARINUX SODIUM]   \n",
      "UMLS:C5880575|CHEBI:36560      [OCTINOXATE, ZINC OXIDE, HYDROQUINONE]   \n",
      "\n",
      "                                                                list of diseases  \n",
      "drug|disease                                                                      \n",
      "DOID:10017|CHEBI:7915                     [MULTIPLE ENDOCRINE NEOPLASIA TYPE 1)]  \n",
      "DOID:12177|CHEBI:4911                         [COMMON VARIABLE IMMUNODEFICIENCY]  \n",
      "DOID:12177|DRUGBANK:DB00028            [COMMON VARIABLE IMMUNODEFICIENCY (CVID)]  \n",
      "DOID:14275|CHEBI:16469         [SYMPTOMS OF VULVAR AND VAGINAL ATROPHY ASSOCI...  \n",
      "DOID:14275|CHEBI:28689         [DYSPAREUNIA (SYMPTOM OF VULVAR AND VAGINAL AT...  \n",
      "...                                                                          ...  \n",
      "UMLS:C5848083|CHEBI:8382                                   [POSTPARTUM MASTITIS]  \n",
      "UMLS:C5848632|CHEBI:17026                              [PROGESTERONE DEFICIENCY]  \n",
      "UMLS:C5849339|UNII:P188ANX8CK                           [HER2-LOW BREAST CANCER]  \n",
      "UMLS:C5879660|CHEBI:31632                           [ACUTE DEEP VEIN THROMBOSIS]  \n",
      "UMLS:C5880575|CHEBI:36560                                           [SUN DAMAGE]  \n",
      "\n",
      "[15744 rows x 6 columns]\n"
     ]
    }
   ],
   "execution_count": 8
  },
  {
   "cell_type": "code",
   "id": "221d6fb0-aeaa-41bb-bb09-77582a79dc3e",
   "metadata": {
    "ExecuteTime": {
     "end_time": "2024-09-11T18:30:48.906116Z",
     "start_time": "2024-09-11T18:30:48.868244Z"
    }
   },
   "source": [
    "df3.to_csv(\"indicationList.tsv\", sep=\"\\t\")"
   ],
   "outputs": [],
   "execution_count": 9
  },
  {
   "cell_type": "code",
   "execution_count": null,
   "id": "eacfda9c-49fe-4b6f-8a7d-a3eca0e6496d",
   "metadata": {},
   "outputs": [],
   "source": []
  }
 ],
 "metadata": {
  "kernelspec": {
   "display_name": "Python 3 (ipykernel)",
   "language": "python",
   "name": "python3"
  },
  "language_info": {
   "codemirror_mode": {
    "name": "ipython",
    "version": 3
   },
   "file_extension": ".py",
   "mimetype": "text/x-python",
   "name": "python",
   "nbconvert_exporter": "python",
   "pygments_lexer": "ipython3",
   "version": "3.11.9"
  }
 },
 "nbformat": 4,
 "nbformat_minor": 5
}
