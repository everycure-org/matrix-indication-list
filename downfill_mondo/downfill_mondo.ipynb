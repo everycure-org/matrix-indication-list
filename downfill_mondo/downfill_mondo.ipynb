{
 "cells": [
  {
   "cell_type": "code",
   "execution_count": 3,
   "id": "97a23d02-e4e2-48b4-9000-167da29badc5",
   "metadata": {},
   "outputs": [
    {
     "name": "stdout",
     "output_type": "stream",
     "text": [
      "building graph...\n"
     ]
    },
    {
     "name": "stderr",
     "output_type": "stream",
     "text": [
      "38242it [00:00, 46948.90it/s]\n"
     ]
    },
    {
     "name": "stdout",
     "output_type": "stream",
     "text": [
      "Downfilling based on MONDO hierarchy...\n"
     ]
    },
    {
     "name": "stderr",
     "output_type": "stream",
     "text": [
      "15744it [02:16, 115.04it/s]\n"
     ]
    }
   ],
   "source": [
    "import pandas as pd\n",
    "from tqdm import tqdm\n",
    "import rdflib\n",
    "import networkx as nx\n",
    "import matplotlib.pyplot as plt\n",
    "from pyvis.network import Network\n",
    "\n",
    "\n",
    "def get_edges(graph, name):\n",
    "    return(G.edges([name]))\n",
    "\n",
    "# Recursive downfill\n",
    "def downfill(graph: nx.DiGraph, drug: str, disease: str, curr: pd.DataFrame, mondoNodes):\n",
    "    #print(\"downfilling treats edge between \", drug, \" and \", disease)\n",
    "    drugInfo = curr[curr['drug ID']==drug].iloc[0]\n",
    "    \n",
    "    curr.loc[len(curr.index)] = [drug + \"|\" + disease, \n",
    "                                 mondoNodes.name[mondoNodes.id==disease], \n",
    "                                 drugInfo['drug ID Label'],\n",
    "                                 drug, \n",
    "                                 disease, \n",
    "                                 drugInfo['active ingredients in therapy'], \n",
    "                                 'NA (inferred)'] \n",
    "    children = get_edges(graph, disease)\n",
    "    if len(children)==0:\n",
    "        return\n",
    "    else:\n",
    "        child_diseases = [x[1] for x in list(children)]\n",
    "        for d in child_diseases:\n",
    "            downfill(graph, drug, d, curr, mondo_nodes)\n",
    "\n",
    "\n",
    "indication_list = pd.read_csv(\"../merge_lists/indicationList.tsv\", sep='\\t')\n",
    "mondo_edges = pd.read_csv(\"mondo_edges.tsv\", sep=\"\\t\")\n",
    "mondo_nodes = pd.read_csv(\"mondo_nodes.tsv\", sep=\"\\t\")\n",
    "\n",
    "disease_nodes = mondo_nodes[mondo_nodes.category=='biolink:Disease']\n",
    "\n",
    "\n",
    "disease_edges = mondo_edges[mondo_edges['subject'].str.contains(\"MONDO\")]\n",
    "disease_edges = disease_edges[disease_edges['object'].str.contains(\"MONDO\")]\n",
    "disease_edges = disease_edges[disease_edges['predicate']==\"biolink:subclass_of\"]\n",
    "\n",
    "disease_nodes.to_excel(\"mondo_disease_nodes.xlsx\")\n",
    "disease_edges.to_excel(\"mondo_disease_edges.xlsx\")\n",
    "\n",
    "\n",
    "G = nx.DiGraph()\n",
    "print(\"building graph...\")\n",
    "for idx, row in tqdm(disease_edges.iterrows()):\n",
    "    G.add_edge(row['object'], row['subject'])\n",
    "\n",
    "# now we have a directed graph originating at \"Disease\". Designate \"MONDO:0000001\" as HEAD.\n",
    "head = G.nodes['MONDO:0000001']\n",
    "list_drug_nodes = list(i for i in indication_list['drug ID'])\n",
    "list_disease_nodes = list(i for i in indication_list['disease IDs'])\n",
    "\n",
    "\n",
    "# NOTE: child refers to being downhill in the MONDO tree, not to human children.\n",
    "print(\"Downfilling based on MONDO hierarchy...\")\n",
    "for idx, disease in tqdm(enumerate(list_disease_nodes)):\n",
    "    store_dict = {}\n",
    "    children = get_edges(G, disease)\n",
    "    if len(children)>0 and len(children) <= 3:\n",
    "        child_diseases = [x[1] for x in list(children)]\n",
    "        #print(disease, \" has \", len(child_diseases) ,\" downhill children: \", child_diseases)\n",
    "        for K in child_diseases:\n",
    "            downfill(G, list_drug_nodes[idx], K, indication_list, mondo_nodes)\n",
    "\n",
    "    #if len(children) > 3:\n",
    "        #print(disease, \" omitted from downfilling because too many children.\")\n",
    "\n",
    "#print(drug_nodes)\n",
    "#print(disease_nodes)"
   ]
  },
  {
   "cell_type": "code",
   "execution_count": 4,
   "id": "935dc6d8-51b6-4e62-a9da-cf43d93f0614",
   "metadata": {},
   "outputs": [
    {
     "name": "stdout",
     "output_type": "stream",
     "text": [
      "                      drug|disease  \\\n",
      "0            DOID:10017|CHEBI:7915   \n",
      "1            DOID:12177|CHEBI:4911   \n",
      "2      DOID:12177|DRUGBANK:DB00028   \n",
      "3           DOID:14275|CHEBI:16469   \n",
      "4           DOID:14275|CHEBI:28689   \n",
      "...                            ...   \n",
      "37068    CHEBI:30769|MONDO:0958191   \n",
      "37069    CHEBI:40279|MONDO:0020722   \n",
      "37070    CHEBI:40279|MONDO:0958191   \n",
      "37071     CHEBI:6446|MONDO:0020722   \n",
      "37072     CHEBI:6446|MONDO:0958191   \n",
      "\n",
      "                                       disease ID labels  \\\n",
      "0                    multiple endocrine neoplasia type 1   \n",
      "1                       common variable immunodeficiency   \n",
      "2                       common variable immunodeficiency   \n",
      "3                                         atrophic vulva   \n",
      "4                                         atrophic vulva   \n",
      "...                                                  ...   \n",
      "37068  43861    nephrolithiasis, calcium oxalate, 2, ...   \n",
      "37069  37649    nephrolithiasis susceptibility caused...   \n",
      "37070  43861    nephrolithiasis, calcium oxalate, 2, ...   \n",
      "37071  37649    nephrolithiasis susceptibility caused...   \n",
      "37072  43861    nephrolithiasis, calcium oxalate, 2, ...   \n",
      "\n",
      "                        drug ID Label           drug ID    disease IDs  \\\n",
      "0                        Pantoprazole        CHEBI:7915     DOID:10017   \n",
      "1                           Etoposide        CHEBI:4911     DOID:12177   \n",
      "2              Human immunoglobulin G  DRUGBANK:DB00028     DOID:12177   \n",
      "3                           Estradiol       CHEBI:16469     DOID:14275   \n",
      "4                          Prasterone       CHEBI:28689     DOID:14275   \n",
      "...                               ...               ...            ...   \n",
      "37068                     Citric acid       CHEBI:30769  MONDO:0958191   \n",
      "37069                     Allopurinol       CHEBI:40279  MONDO:0020722   \n",
      "37070                     Allopurinol       CHEBI:40279  MONDO:0958191   \n",
      "37071  levothyroxine sodium anhydrous        CHEBI:6446  MONDO:0020722   \n",
      "37072  levothyroxine sodium anhydrous        CHEBI:6446  MONDO:0958191   \n",
      "\n",
      "                        active ingredients in therapy  \\\n",
      "0                                    {'PANTOPRAZOLE'}   \n",
      "1                                           ETOPOSIDE   \n",
      "2                          {'HUMAN IMMUNOGLOBULIN G'}   \n",
      "3                                       {'ESTRADIOL'}   \n",
      "4                                          PRASTERONE   \n",
      "...                                               ...   \n",
      "37068  {'PHOSPHORIC ACID', 'DEXTROSE', 'CITRIC ACID'}   \n",
      "37069                                 {'ALLOPURINOL'}   \n",
      "37070                                 {'ALLOPURINOL'}   \n",
      "37071    {'CLAVULANIC ACID', 'AMOXICILLIN ANHYDROUS'}   \n",
      "37072    {'CLAVULANIC ACID', 'AMOXICILLIN ANHYDROUS'}   \n",
      "\n",
      "                              list of diseases  \n",
      "0         MULTIPLE ENDOCRINE NEOPLASIA TYPE 1)  \n",
      "1             COMMON VARIABLE IMMUNODEFICIENCY  \n",
      "2      COMMON VARIABLE IMMUNODEFICIENCY (CVID)  \n",
      "3                               VULVAR ATROPHY  \n",
      "4                               VULVAR ATROPHY  \n",
      "...                                        ...  \n",
      "37068                            NA (inferred)  \n",
      "37069                            NA (inferred)  \n",
      "37070                            NA (inferred)  \n",
      "37071                            NA (inferred)  \n",
      "37072                            NA (inferred)  \n",
      "\n",
      "[37073 rows x 7 columns]\n"
     ]
    }
   ],
   "source": [
    "print(indication_list)"
   ]
  },
  {
   "cell_type": "code",
   "execution_count": 5,
   "id": "86eb754f-fce1-4149-926b-3fe5c24a8073",
   "metadata": {},
   "outputs": [],
   "source": [
    "indication_list.to_excel(\"indicationList_downfilled.xlsx\")\n"
   ]
  },
  {
   "cell_type": "code",
   "execution_count": 11,
   "id": "b28b0fed-653f-461a-a9f3-ff53c6c9482a",
   "metadata": {},
   "outputs": [
    {
     "name": "stdout",
     "output_type": "stream",
     "text": [
      "[('MONDO:0000001', 'MONDO:0005583'), ('MONDO:0000001', 'MONDO:0700096')]\n"
     ]
    }
   ],
   "source": [
    "print(G.edges('MONDO:0000001'))\n"
   ]
  },
  {
   "cell_type": "code",
   "execution_count": 14,
   "id": "e1876c71-da95-41b9-ace9-79b975eb0c22",
   "metadata": {},
   "outputs": [
    {
     "name": "stdout",
     "output_type": "stream",
     "text": [
      "38242\n"
     ]
    }
   ],
   "source": [
    "E = list(G.edges)\n",
    "print(len(E))"
   ]
  },
  {
   "cell_type": "code",
   "execution_count": null,
   "id": "dff1e523-0978-4bd0-adec-d1014c9a7ba8",
   "metadata": {},
   "outputs": [],
   "source": []
  }
 ],
 "metadata": {
  "kernelspec": {
   "display_name": "Python 3 (ipykernel)",
   "language": "python",
   "name": "python3"
  },
  "language_info": {
   "codemirror_mode": {
    "name": "ipython",
    "version": 3
   },
   "file_extension": ".py",
   "mimetype": "text/x-python",
   "name": "python",
   "nbconvert_exporter": "python",
   "pygments_lexer": "ipython3",
   "version": "3.11.9"
  }
 },
 "nbformat": 4,
 "nbformat_minor": 5
}
