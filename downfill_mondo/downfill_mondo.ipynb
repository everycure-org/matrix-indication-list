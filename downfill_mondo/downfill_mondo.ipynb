{
 "cells": [
  {
   "cell_type": "code",
   "execution_count": 13,
   "id": "97a23d02-e4e2-48b4-9000-167da29badc5",
   "metadata": {},
   "outputs": [
    {
     "name": "stdout",
     "output_type": "stream",
     "text": [
      "importing indication list...\n",
      "importing mondo content and filtering nodes...\n",
      "building graph...\n"
     ]
    },
    {
     "name": "stderr",
     "output_type": "stream",
     "text": [
      "38242it [00:00, 46696.08it/s]\n"
     ]
    },
    {
     "name": "stdout",
     "output_type": "stream",
     "text": [
      "Downfilling based on MONDO hierarchy...\n"
     ]
    },
    {
     "name": "stderr",
     "output_type": "stream",
     "text": [
      "100%|█████████████████████████████████████| 15744/15744 [03:03<00:00, 85.76it/s]\n"
     ]
    }
   ],
   "source": [
    "import pandas as pd\n",
    "from tqdm import tqdm\n",
    "import rdflib\n",
    "import networkx as nx\n",
    "import matplotlib.pyplot as plt\n",
    "from pyvis.network import Network\n",
    "\n",
    "def get_edges(graph, name):\n",
    "    return(G.edges([name]))\n",
    "\n",
    "# Recursive downfill\n",
    "def downfill(graph: nx.DiGraph, drug: str, disease: str, curr: pd.DataFrame, mondoNodes, inheritanceString: str):\n",
    "    #print(\"downfilling treats edge between \", drug, \" and \", disease)\n",
    "    drugInfo = curr[curr['drug ID']==drug].iloc[0]\n",
    "    \n",
    "    curr.loc[len(curr.index)] = [drug + \"|\" + disease, \n",
    "                                 mondoNodes[mondoNodes.id==disease]['name'].to_string(index=False), \n",
    "                                 drugInfo['drug ID Label'],\n",
    "                                 drug, \n",
    "                                 disease, \n",
    "                                 drugInfo['active ingredients in therapy'], \n",
    "                                 inheritanceString,\n",
    "                                 True] \n",
    "    children = get_edges(graph, disease)\n",
    "    if len(children)==0:\n",
    "        return\n",
    "    else:\n",
    "        child_diseases = [x[1] for x in list(children)]\n",
    "        for d in child_diseases:\n",
    "            downfill(graph, drug, d, curr, mondo_nodes, inheritanceString + \"-->\" + mondoNodes[mondoNodes.id==disease]['name'].to_string(index=False))\n",
    "\n",
    "print(\"importing indication list...\")\n",
    "indication_list = pd.read_csv(\"../merge_lists/indicationList.tsv\", sep='\\t')\n",
    "\n",
    "K = (False for idx, row in indication_list.iterrows())\n",
    "\n",
    "indication_list['inferred_from_mondo'] = list(K)\n",
    "\n",
    "print(\"importing mondo content and filtering nodes...\")\n",
    "mondo_edges = pd.read_csv(\"mondo_edges.tsv\", sep=\"\\t\")\n",
    "mondo_nodes = pd.read_csv(\"mondo_nodes.tsv\", sep=\"\\t\")\n",
    "\n",
    "disease_nodes = mondo_nodes[mondo_nodes.category=='biolink:Disease']\n",
    "\n",
    "disease_edges = mondo_edges[mondo_edges['subject'].str.contains(\"MONDO\")]\n",
    "disease_edges = disease_edges[disease_edges['object'].str.contains(\"MONDO\")]\n",
    "disease_edges = disease_edges[disease_edges['predicate']==\"biolink:subclass_of\"]\n",
    "\n",
    "disease_nodes.to_excel(\"mondo_disease_nodes.xlsx\")\n",
    "disease_edges.to_excel(\"mondo_disease_edges.xlsx\")\n",
    "\n",
    "\n",
    "G = nx.DiGraph()\n",
    "print(\"building graph...\")\n",
    "for idx, row in tqdm(disease_edges.iterrows()):\n",
    "    G.add_edge(row['object'], row['subject'])\n",
    "\n",
    "# now we have a directed graph originating at \"Disease\". Designate \"MONDO:0000001\" as HEAD.\n",
    "head = G.nodes['MONDO:0000001']\n",
    "list_drug_nodes = list(i for i in indication_list['drug ID'])\n",
    "list_disease_nodes = list(i for i in indication_list['disease IDs'])\n",
    "\n",
    "# NOTE: child refers to being downhill in the MONDO tree, not to human children.\n",
    "print(\"Downfilling based on MONDO hierarchy...\")\n",
    "for idx, disease in tqdm(enumerate(list_disease_nodes), total=len(list_disease_nodes)):\n",
    "    store_dict = {}\n",
    "    children = get_edges(G, disease)\n",
    "    if len(children)>0 and len(children) <= 3:\n",
    "        child_diseases = [x[1] for x in list(children)]\n",
    "        #print(disease, \" has \", len(child_diseases) ,\" downhill children: \", child_diseases)\n",
    "        for K in child_diseases:\n",
    "            downfill(G, list_drug_nodes[idx], K, indication_list, disease_nodes, disease_nodes[disease_nodes.id==disease]['name'].to_string(index=False))\n",
    "\n",
    "indication_list.to_excel(\"indicationList_downfilled.xlsx\")"
   ]
  },
  {
   "cell_type": "code",
   "execution_count": 14,
   "id": "2fe8149b-15fc-49f0-bd5d-31e214b4f97c",
   "metadata": {},
   "outputs": [
    {
     "name": "stdout",
     "output_type": "stream",
     "text": [
      "34335\n",
      "2353\n",
      "6540\n"
     ]
    }
   ],
   "source": [
    "print(len(set(list(indication_list['drug|disease']))))\n",
    "print(len(set(list(indication_list['drug ID']))))\n",
    "print(len(set(list(indication_list['disease IDs']))))"
   ]
  },
  {
   "cell_type": "code",
   "execution_count": 23,
   "id": "935dc6d8-51b6-4e62-a9da-cf43d93f0614",
   "metadata": {},
   "outputs": [
    {
     "name": "stderr",
     "output_type": "stream",
     "text": [
      "  0%|                                                 | 0/37073 [00:00<?, ?it/s]\n"
     ]
    },
    {
     "ename": "KeyError",
     "evalue": "'disease IDs'",
     "output_type": "error",
     "traceback": [
      "\u001b[0;31m---------------------------------------------------------------------------\u001b[0m",
      "\u001b[0;31mKeyError\u001b[0m                                  Traceback (most recent call last)",
      "File \u001b[0;32m~/base/lib/python3.11/site-packages/pandas/core/indexes/base.py:3805\u001b[0m, in \u001b[0;36mIndex.get_loc\u001b[0;34m(self, key)\u001b[0m\n\u001b[1;32m   3804\u001b[0m \u001b[38;5;28;01mtry\u001b[39;00m:\n\u001b[0;32m-> 3805\u001b[0m     \u001b[38;5;28;01mreturn\u001b[39;00m \u001b[38;5;28;43mself\u001b[39;49m\u001b[38;5;241;43m.\u001b[39;49m\u001b[43m_engine\u001b[49m\u001b[38;5;241;43m.\u001b[39;49m\u001b[43mget_loc\u001b[49m\u001b[43m(\u001b[49m\u001b[43mcasted_key\u001b[49m\u001b[43m)\u001b[49m\n\u001b[1;32m   3806\u001b[0m \u001b[38;5;28;01mexcept\u001b[39;00m \u001b[38;5;167;01mKeyError\u001b[39;00m \u001b[38;5;28;01mas\u001b[39;00m err:\n",
      "File \u001b[0;32mindex.pyx:167\u001b[0m, in \u001b[0;36mpandas._libs.index.IndexEngine.get_loc\u001b[0;34m()\u001b[0m\n",
      "File \u001b[0;32mindex.pyx:196\u001b[0m, in \u001b[0;36mpandas._libs.index.IndexEngine.get_loc\u001b[0;34m()\u001b[0m\n",
      "File \u001b[0;32mpandas/_libs/hashtable_class_helper.pxi:7081\u001b[0m, in \u001b[0;36mpandas._libs.hashtable.PyObjectHashTable.get_item\u001b[0;34m()\u001b[0m\n",
      "File \u001b[0;32mpandas/_libs/hashtable_class_helper.pxi:7089\u001b[0m, in \u001b[0;36mpandas._libs.hashtable.PyObjectHashTable.get_item\u001b[0;34m()\u001b[0m\n",
      "\u001b[0;31mKeyError\u001b[0m: 'disease IDs'",
      "\nThe above exception was the direct cause of the following exception:\n",
      "\u001b[0;31mKeyError\u001b[0m                                  Traceback (most recent call last)",
      "Cell \u001b[0;32mIn[23], line 8\u001b[0m\n\u001b[1;32m      5\u001b[0m in_disease_list \u001b[38;5;241m=\u001b[39m []\n\u001b[1;32m      7\u001b[0m \u001b[38;5;28;01mfor\u001b[39;00m idx, row \u001b[38;5;129;01min\u001b[39;00m tqdm(indication_list\u001b[38;5;241m.\u001b[39miterrows(), total\u001b[38;5;241m=\u001b[39m\u001b[38;5;28mlen\u001b[39m(indication_list)):\n\u001b[0;32m----> 8\u001b[0m     \u001b[38;5;28;01mif\u001b[39;00m \u001b[43mrow\u001b[49m\u001b[43m[\u001b[49m\u001b[38;5;124;43m'\u001b[39;49m\u001b[38;5;124;43mdisease IDs\u001b[39;49m\u001b[38;5;124;43m'\u001b[39;49m\u001b[43m]\u001b[49m \u001b[38;5;129;01mnot\u001b[39;00m \u001b[38;5;129;01min\u001b[39;00m diseaseListItems:\n\u001b[1;32m      9\u001b[0m         in_disease_list\u001b[38;5;241m.\u001b[39mappend(\u001b[38;5;28;01mFalse\u001b[39;00m)\n\u001b[1;32m     10\u001b[0m     \u001b[38;5;28;01melse\u001b[39;00m:\n",
      "File \u001b[0;32m~/base/lib/python3.11/site-packages/pandas/core/series.py:1121\u001b[0m, in \u001b[0;36mSeries.__getitem__\u001b[0;34m(self, key)\u001b[0m\n\u001b[1;32m   1118\u001b[0m     \u001b[38;5;28;01mreturn\u001b[39;00m \u001b[38;5;28mself\u001b[39m\u001b[38;5;241m.\u001b[39m_values[key]\n\u001b[1;32m   1120\u001b[0m \u001b[38;5;28;01melif\u001b[39;00m key_is_scalar:\n\u001b[0;32m-> 1121\u001b[0m     \u001b[38;5;28;01mreturn\u001b[39;00m \u001b[38;5;28;43mself\u001b[39;49m\u001b[38;5;241;43m.\u001b[39;49m\u001b[43m_get_value\u001b[49m\u001b[43m(\u001b[49m\u001b[43mkey\u001b[49m\u001b[43m)\u001b[49m\n\u001b[1;32m   1123\u001b[0m \u001b[38;5;66;03m# Convert generator to list before going through hashable part\u001b[39;00m\n\u001b[1;32m   1124\u001b[0m \u001b[38;5;66;03m# (We will iterate through the generator there to check for slices)\u001b[39;00m\n\u001b[1;32m   1125\u001b[0m \u001b[38;5;28;01mif\u001b[39;00m is_iterator(key):\n",
      "File \u001b[0;32m~/base/lib/python3.11/site-packages/pandas/core/series.py:1237\u001b[0m, in \u001b[0;36mSeries._get_value\u001b[0;34m(self, label, takeable)\u001b[0m\n\u001b[1;32m   1234\u001b[0m     \u001b[38;5;28;01mreturn\u001b[39;00m \u001b[38;5;28mself\u001b[39m\u001b[38;5;241m.\u001b[39m_values[label]\n\u001b[1;32m   1236\u001b[0m \u001b[38;5;66;03m# Similar to Index.get_value, but we do not fall back to positional\u001b[39;00m\n\u001b[0;32m-> 1237\u001b[0m loc \u001b[38;5;241m=\u001b[39m \u001b[38;5;28;43mself\u001b[39;49m\u001b[38;5;241;43m.\u001b[39;49m\u001b[43mindex\u001b[49m\u001b[38;5;241;43m.\u001b[39;49m\u001b[43mget_loc\u001b[49m\u001b[43m(\u001b[49m\u001b[43mlabel\u001b[49m\u001b[43m)\u001b[49m\n\u001b[1;32m   1239\u001b[0m \u001b[38;5;28;01mif\u001b[39;00m is_integer(loc):\n\u001b[1;32m   1240\u001b[0m     \u001b[38;5;28;01mreturn\u001b[39;00m \u001b[38;5;28mself\u001b[39m\u001b[38;5;241m.\u001b[39m_values[loc]\n",
      "File \u001b[0;32m~/base/lib/python3.11/site-packages/pandas/core/indexes/base.py:3812\u001b[0m, in \u001b[0;36mIndex.get_loc\u001b[0;34m(self, key)\u001b[0m\n\u001b[1;32m   3807\u001b[0m     \u001b[38;5;28;01mif\u001b[39;00m \u001b[38;5;28misinstance\u001b[39m(casted_key, \u001b[38;5;28mslice\u001b[39m) \u001b[38;5;129;01mor\u001b[39;00m (\n\u001b[1;32m   3808\u001b[0m         \u001b[38;5;28misinstance\u001b[39m(casted_key, abc\u001b[38;5;241m.\u001b[39mIterable)\n\u001b[1;32m   3809\u001b[0m         \u001b[38;5;129;01mand\u001b[39;00m \u001b[38;5;28many\u001b[39m(\u001b[38;5;28misinstance\u001b[39m(x, \u001b[38;5;28mslice\u001b[39m) \u001b[38;5;28;01mfor\u001b[39;00m x \u001b[38;5;129;01min\u001b[39;00m casted_key)\n\u001b[1;32m   3810\u001b[0m     ):\n\u001b[1;32m   3811\u001b[0m         \u001b[38;5;28;01mraise\u001b[39;00m InvalidIndexError(key)\n\u001b[0;32m-> 3812\u001b[0m     \u001b[38;5;28;01mraise\u001b[39;00m \u001b[38;5;167;01mKeyError\u001b[39;00m(key) \u001b[38;5;28;01mfrom\u001b[39;00m \u001b[38;5;21;01merr\u001b[39;00m\n\u001b[1;32m   3813\u001b[0m \u001b[38;5;28;01mexcept\u001b[39;00m \u001b[38;5;167;01mTypeError\u001b[39;00m:\n\u001b[1;32m   3814\u001b[0m     \u001b[38;5;66;03m# If we have a listlike key, _check_indexing_error will raise\u001b[39;00m\n\u001b[1;32m   3815\u001b[0m     \u001b[38;5;66;03m#  InvalidIndexError. Otherwise we fall through and re-raise\u001b[39;00m\n\u001b[1;32m   3816\u001b[0m     \u001b[38;5;66;03m#  the TypeError.\u001b[39;00m\n\u001b[1;32m   3817\u001b[0m     \u001b[38;5;28mself\u001b[39m\u001b[38;5;241m.\u001b[39m_check_indexing_error(key)\n",
      "\u001b[0;31mKeyError\u001b[0m: 'disease IDs'"
     ]
    }
   ],
   "source": [
    "# Filter by diseases in disease list\n",
    "diseaseList = pd.read_csv('matrix-disease-list.tsv', sep='\\t')\n",
    "diseaseListItems = list(diseaseList['category_class'])\n",
    "\n",
    "in_disease_list = []\n",
    "\n",
    "for idx, row in tqdm(indication_list.iterrows(), total=len(indication_list)):\n",
    "    if row['disease IDs'] not in diseaseListItems:\n",
    "        in_disease_list.append(False)\n",
    "    else:\n",
    "        in_disease_list.append(True)\n",
    "\n",
    "indication_list['in_disease_list'] = in_disease_list\n",
    "indication_list.columns = ['drug|disease', 'disease_label', 'drug_label', 'drug_ID', 'disease_ID', 'active_ingredients', 'source_text', 'inferred_from_mondo','in_disease_list']\n",
    "# indication_list.rename(\"disease ID labels\":\"disease_label\")\n",
    "# indication_list.rename(\"disease IDs\":\"disease_ID\")\n",
    "# indication_list.rename(\"list of diseases\":\"source_text\")\n",
    "# indication_list.rename(\"active ingredients in therapy\":\"active_ingredients\")\n",
    "# indication_list.rename(\"drug ID label\":\"drug_label\")\n",
    "# indication_list.rename(\"drug ID\":\"drug_ID\")\n",
    "\n",
    "\n",
    "indication_list.to_excel(\"indicationList_downfilled.xlsx\")\n",
    "\n",
    "indication_list.to_csv(\"indicationList.tsv\", sep=\"\\t\")"
   ]
  },
  {
   "cell_type": "code",
   "execution_count": 24,
   "id": "ec46fa10-e096-4194-887c-f1cccbff6041",
   "metadata": {},
   "outputs": [],
   "source": [
    "indication_list.to_csv(\"indicationList.tsv\", sep=\"\\t\")"
   ]
  },
  {
   "cell_type": "code",
   "execution_count": null,
   "id": "67c1684b-9251-4550-82a8-f3b83f407017",
   "metadata": {},
   "outputs": [],
   "source": []
  }
 ],
 "metadata": {
  "kernelspec": {
   "display_name": "Python 3 (ipykernel)",
   "language": "python",
   "name": "python3"
  },
  "language_info": {
   "codemirror_mode": {
    "name": "ipython",
    "version": 3
   },
   "file_extension": ".py",
   "mimetype": "text/x-python",
   "name": "python",
   "nbconvert_exporter": "python",
   "pygments_lexer": "ipython3",
   "version": "3.11.9"
  }
 },
 "nbformat": 4,
 "nbformat_minor": 5
}
