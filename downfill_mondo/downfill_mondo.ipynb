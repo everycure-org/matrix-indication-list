{
 "cells": [
  {
   "cell_type": "code",
   "execution_count": 13,
   "id": "97a23d02-e4e2-48b4-9000-167da29badc5",
   "metadata": {},
   "outputs": [
    {
     "name": "stdout",
     "output_type": "stream",
     "text": [
      "importing indication list...\n",
      "importing mondo content and filtering nodes...\n",
      "building graph...\n"
     ]
    },
    {
     "name": "stderr",
     "output_type": "stream",
     "text": [
      "38242it [00:00, 46696.08it/s]\n"
     ]
    },
    {
     "name": "stdout",
     "output_type": "stream",
     "text": [
      "Downfilling based on MONDO hierarchy...\n"
     ]
    },
    {
     "name": "stderr",
     "output_type": "stream",
     "text": [
      "100%|█████████████████████████████████████| 15744/15744 [03:03<00:00, 85.76it/s]\n"
     ]
    }
   ],
   "source": [
    "import pandas as pd\n",
    "from tqdm import tqdm\n",
    "import rdflib\n",
    "import networkx as nx\n",
    "import matplotlib.pyplot as plt\n",
    "from pyvis.network import Network\n",
    "\n",
    "\n",
    "def get_edges(graph, name):\n",
    "    return(G.edges([name]))\n",
    "\n",
    "# Recursive downfill\n",
    "def downfill(graph: nx.DiGraph, drug: str, disease: str, curr: pd.DataFrame, mondoNodes, inheritanceString: str):\n",
    "    #print(\"downfilling treats edge between \", drug, \" and \", disease)\n",
    "    drugInfo = curr[curr['drug ID']==drug].iloc[0]\n",
    "    \n",
    "    curr.loc[len(curr.index)] = [drug + \"|\" + disease, \n",
    "                                 mondoNodes[mondoNodes.id==disease]['name'].to_string(index=False), \n",
    "                                 drugInfo['drug ID Label'],\n",
    "                                 drug, \n",
    "                                 disease, \n",
    "                                 drugInfo['active ingredients in therapy'], \n",
    "                                 inheritanceString,\n",
    "                                 True] \n",
    "    children = get_edges(graph, disease)\n",
    "    if len(children)==0:\n",
    "        return\n",
    "    else:\n",
    "        child_diseases = [x[1] for x in list(children)]\n",
    "        for d in child_diseases:\n",
    "            downfill(graph, drug, d, curr, mondo_nodes, inheritanceString + \"-->\" + mondoNodes[mondoNodes.id==disease]['name'].to_string(index=False))\n",
    "\n",
    "print(\"importing indication list...\")\n",
    "indication_list = pd.read_csv(\"../merge_lists/indicationList.tsv\", sep='\\t')\n",
    "\n",
    "K = (False for idx, row in indication_list.iterrows())\n",
    "\n",
    "indication_list['inferred_from_mondo'] = list(K)\n",
    "\n",
    "print(\"importing mondo content and filtering nodes...\")\n",
    "mondo_edges = pd.read_csv(\"mondo_edges.tsv\", sep=\"\\t\")\n",
    "mondo_nodes = pd.read_csv(\"mondo_nodes.tsv\", sep=\"\\t\")\n",
    "\n",
    "disease_nodes = mondo_nodes[mondo_nodes.category=='biolink:Disease']\n",
    "\n",
    "disease_edges = mondo_edges[mondo_edges['subject'].str.contains(\"MONDO\")]\n",
    "disease_edges = disease_edges[disease_edges['object'].str.contains(\"MONDO\")]\n",
    "disease_edges = disease_edges[disease_edges['predicate']==\"biolink:subclass_of\"]\n",
    "\n",
    "disease_nodes.to_excel(\"mondo_disease_nodes.xlsx\")\n",
    "disease_edges.to_excel(\"mondo_disease_edges.xlsx\")\n",
    "\n",
    "\n",
    "G = nx.DiGraph()\n",
    "print(\"building graph...\")\n",
    "for idx, row in tqdm(disease_edges.iterrows()):\n",
    "    G.add_edge(row['object'], row['subject'])\n",
    "\n",
    "# now we have a directed graph originating at \"Disease\". Designate \"MONDO:0000001\" as HEAD.\n",
    "head = G.nodes['MONDO:0000001']\n",
    "list_drug_nodes = list(i for i in indication_list['drug ID'])\n",
    "list_disease_nodes = list(i for i in indication_list['disease IDs'])\n",
    "\n",
    "# NOTE: child refers to being downhill in the MONDO tree, not to human children.\n",
    "print(\"Downfilling based on MONDO hierarchy...\")\n",
    "for idx, disease in tqdm(enumerate(list_disease_nodes), total=len(list_disease_nodes)):\n",
    "    store_dict = {}\n",
    "    children = get_edges(G, disease)\n",
    "    if len(children)>0 and len(children) <= 3:\n",
    "        child_diseases = [x[1] for x in list(children)]\n",
    "        #print(disease, \" has \", len(child_diseases) ,\" downhill children: \", child_diseases)\n",
    "        for K in child_diseases:\n",
    "            downfill(G, list_drug_nodes[idx], K, indication_list, disease_nodes, disease_nodes[disease_nodes.id==disease]['name'].to_string(index=False))\n",
    "\n",
    "indication_list.to_excel(\"indicationList_downfilled.xlsx\")"
   ]
  },
  {
   "cell_type": "code",
   "execution_count": 14,
   "id": "2fe8149b-15fc-49f0-bd5d-31e214b4f97c",
   "metadata": {},
   "outputs": [
    {
     "name": "stdout",
     "output_type": "stream",
     "text": [
      "34335\n",
      "2353\n",
      "6540\n"
     ]
    }
   ],
   "source": [
    "print(len(set(list(indication_list['drug|disease']))))\n",
    "print(len(set(list(indication_list['drug ID']))))\n",
    "print(len(set(list(indication_list['disease IDs']))))"
   ]
  },
  {
   "cell_type": "code",
   "execution_count": 19,
   "id": "935dc6d8-51b6-4e62-a9da-cf43d93f0614",
   "metadata": {},
   "outputs": [
    {
     "name": "stderr",
     "output_type": "stream",
     "text": [
      "100%|███████████████████████████████████| 37073/37073 [00:05<00:00, 6408.56it/s]\n"
     ]
    }
   ],
   "source": [
    "# Filter by diseases in disease list\n",
    "diseaseList = pd.read_csv('matrix-disease-list.tsv', sep='\\t')\n",
    "diseaseListItems = list(diseaseList['category_class'])\n",
    "\n",
    "in_disease_list = []\n",
    "\n",
    "for idx, row in tqdm(indication_list.iterrows(), total=len(indication_list)):\n",
    "    if row['disease IDs'] not in diseaseListItems:\n",
    "        in_disease_list.append(False)\n",
    "    else:\n",
    "        in_disease_list.append(True)\n",
    "\n",
    "indication_list['in_disease_list'] = in_disease_list\n",
    "indication_list.to_excel(\"indicationList_downfilled.xlsx\")\n",
    "\n"
   ]
  },
  {
   "cell_type": "code",
   "execution_count": 13,
   "id": "86eb754f-fce1-4149-926b-3fe5c24a8073",
   "metadata": {},
   "outputs": [],
   "source": [
    "indication_list.drop(to_drop, axis=0, inplace=True)\n"
   ]
  },
  {
   "cell_type": "code",
   "execution_count": 14,
   "id": "b28b0fed-653f-461a-a9f3-ff53c6c9482a",
   "metadata": {},
   "outputs": [
    {
     "name": "stdout",
     "output_type": "stream",
     "text": [
      "                        drug|disease  \\\n",
      "1513   MONDO:0000050|UNII:6D848RA61B   \n",
      "1514   MONDO:0000050|UNII:8FOJ430U94   \n",
      "1515   MONDO:0000050|UNII:NQX9KB6PCL   \n",
      "1516   MONDO:0000050|UNII:OP35X9610Y   \n",
      "1518        MONDO:0000082|CHEBI:3746   \n",
      "...                              ...   \n",
      "37068      CHEBI:30769|MONDO:0958191   \n",
      "37069      CHEBI:40279|MONDO:0020722   \n",
      "37070      CHEBI:40279|MONDO:0958191   \n",
      "37071       CHEBI:6446|MONDO:0020722   \n",
      "37072       CHEBI:6446|MONDO:0958191   \n",
      "\n",
      "                                       disease ID labels  \\\n",
      "1513       isolated congenital growth hormone deficiency   \n",
      "1514       isolated congenital growth hormone deficiency   \n",
      "1515       isolated congenital growth hormone deficiency   \n",
      "1516       isolated congenital growth hormone deficiency   \n",
      "1518                               pelvic organ prolapse   \n",
      "...                                                  ...   \n",
      "37068  nephrolithiasis, calcium oxalate, 2, with or w...   \n",
      "37069   nephrolithiasis susceptibility caused by SLC26A1   \n",
      "37070  nephrolithiasis, calcium oxalate, 2, with or w...   \n",
      "37071   nephrolithiasis susceptibility caused by SLC26A1   \n",
      "37072  nephrolithiasis, calcium oxalate, 2, with or w...   \n",
      "\n",
      "                        drug ID Label          drug ID    disease IDs  \\\n",
      "1513                       Somatrogon  UNII:6D848RA61B  MONDO:0000050   \n",
      "1514                      Somapacitan  UNII:8FOJ430U94  MONDO:0000050   \n",
      "1515                     Somatotropin  UNII:NQX9KB6PCL  MONDO:0000050   \n",
      "1516                Lonapegsomatropin  UNII:OP35X9610Y  MONDO:0000050   \n",
      "1518            clindamycin phosphate       CHEBI:3746  MONDO:0000082   \n",
      "...                               ...              ...            ...   \n",
      "37068                     Citric acid      CHEBI:30769  MONDO:0958191   \n",
      "37069                     Allopurinol      CHEBI:40279  MONDO:0020722   \n",
      "37070                     Allopurinol      CHEBI:40279  MONDO:0958191   \n",
      "37071  levothyroxine sodium anhydrous       CHEBI:6446  MONDO:0020722   \n",
      "37072  levothyroxine sodium anhydrous       CHEBI:6446  MONDO:0958191   \n",
      "\n",
      "                           active ingredients in therapy  \\\n",
      "1513                       ['SOMATROGON', 'SOMATROGON ']   \n",
      "1514                                     ['SOMAPACITAN']   \n",
      "1515                       ['SOMATROPIN', 'SOMATROPIN ']   \n",
      "1516                               ['LONAPEGSOMATROPIN']   \n",
      "1518                                     ['CLINDAMYCIN']   \n",
      "...                                                  ...   \n",
      "37068         ['PHOSPHORIC ACID, DEXTROSE, CITRIC ACID']   \n",
      "37069                                    ['ALLOPURINOL']   \n",
      "37070                                    ['ALLOPURINOL']   \n",
      "37071  ['ANHYDROUS LACTOSE, CEFADROXIL ANHYDROUS', 'C...   \n",
      "37072  ['ANHYDROUS LACTOSE, CEFADROXIL ANHYDROUS', 'C...   \n",
      "\n",
      "                                        list of diseases  \n",
      "1513   ['GROWTH HORMONE DEFICIENCY', 'GROWTH HORMONE ...  \n",
      "1514   ['GROWTH HORMONE DEFICIENCY (ADULT GHD)', 'GRO...  \n",
      "1515   ['ADULT GROWTH HORMONE DEFICIENCY (SEVERE CASE...  \n",
      "1516   ['GROWTH FAILURE DUE TO INADEQUATE SECRETION O...  \n",
      "1518   ['POSTSURGICAL VAGINAL CUFF INFECTION (PELVIC)...  \n",
      "...                                                  ...  \n",
      "37068                   nephrolithiasis, calcium oxalate  \n",
      "37069                   nephrolithiasis, calcium oxalate  \n",
      "37070                   nephrolithiasis, calcium oxalate  \n",
      "37071                   nephrolithiasis, calcium oxalate  \n",
      "37072                   nephrolithiasis, calcium oxalate  \n",
      "\n",
      "[25387 rows x 7 columns]\n"
     ]
    }
   ],
   "source": [
    "print(indication_list)"
   ]
  },
  {
   "cell_type": "code",
   "execution_count": 15,
   "id": "4cb7d4a3-f9d2-4a3d-86f9-095ec3badc88",
   "metadata": {},
   "outputs": [
    {
     "name": "stdout",
     "output_type": "stream",
     "text": [
      "22980\n",
      "1948\n",
      "4050\n"
     ]
    }
   ],
   "source": [
    "print(len(set(list(indication_list['drug|disease']))))\n",
    "print(len(set(list(indication_list['drug ID']))))\n",
    "print(len(set(list(indication_list['disease IDs']))))"
   ]
  },
  {
   "cell_type": "code",
   "execution_count": null,
   "id": "cdb56e1e-70ca-4632-93d0-c00a5561f434",
   "metadata": {},
   "outputs": [],
   "source": []
  }
 ],
 "metadata": {
  "kernelspec": {
   "display_name": "Python 3 (ipykernel)",
   "language": "python",
   "name": "python3"
  },
  "language_info": {
   "codemirror_mode": {
    "name": "ipython",
    "version": 3
   },
   "file_extension": ".py",
   "mimetype": "text/x-python",
   "name": "python",
   "nbconvert_exporter": "python",
   "pygments_lexer": "ipython3",
   "version": "3.11.9"
  }
 },
 "nbformat": 4,
 "nbformat_minor": 5
}
